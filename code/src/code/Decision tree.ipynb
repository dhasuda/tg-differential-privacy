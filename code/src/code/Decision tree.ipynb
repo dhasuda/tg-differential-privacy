{
 "cells": [
  {
   "cell_type": "code",
   "execution_count": 2,
   "metadata": {},
   "outputs": [
    {
     "name": "stdout",
     "output_type": "stream",
     "text": [
      "[[0, 0], [1, 1], [0, 0], [1, 1], [0, 0], [1, 1], [0, 0], [1, 1], [0, 0], [1, 1], [0, 0], [1, 1], [0, 0], [1, 1], [0, 0], [1, 1]]\n",
      "[0, 1, 0, 1, 0, 1, 0, 1, 0, 1, 0, 1, 0, 1, 0, 1]\n"
     ]
    },
    {
     "data": {
      "text/plain": [
       "[Text(248.0, 277.2, 'X[1] <= 0.5\\ngini = 0.5\\nsamples = 16\\nvalue = [8, 8]'),\n",
       " Text(124.0, 92.39999999999998, 'gini = 0.0\\nsamples = 8\\nvalue = [8, 0]'),\n",
       " Text(372.0, 92.39999999999998, 'gini = 0.0\\nsamples = 8\\nvalue = [0, 8]')]"
      ]
     },
     "execution_count": 2,
     "metadata": {},
     "output_type": "execute_result"
    }
   ],
   "source": [
    "# Let's start with a simple example of the scikit lib use\n",
    "\n",
    "from sklearn import tree\n",
    "from data_provider import decisionTreeMock\n",
    "\n",
    "X = decisionTreeMock.get_data()\n",
    "Y = decisionTreeMock.get_data_result()\n",
    "print(X)\n",
    "print(Y)\n",
    "\n",
    "clf = tree.DecisionTreeClassifier()\n",
    "clf = clf.fit(X, Y)\n",
    "\n",
    "tree.plot_tree(clf.fit(X, Y))\n"
   ]
  },
  {
   "cell_type": "code",
   "execution_count": 3,
   "metadata": {},
   "outputs": [],
   "source": [
    "## Dataset\n",
    "data_set = {\n",
    "    'samples': X,\n",
    "    'labels': Y\n",
    "}"
   ]
  },
  {
   "cell_type": "code",
   "execution_count": 4,
   "metadata": {},
   "outputs": [
    {
     "name": "stdout",
     "output_type": "stream",
     "text": [
      "{'samples': [[0, 0], [1, 1], [0, 0], [1, 1], [0, 0], [1, 1], [0, 0], [1, 1], [0, 0], [1, 1], [0, 0], [1, 1], [0, 0], [1, 1], [0, 0], [1, 1]], 'labels': [0, 1, 0, 1, 0, 1, 0, 1, 0, 1, 0, 1, 0, 1, 0, 1]}\n"
     ]
    },
    {
     "data": {
      "text/plain": [
       "[Text(167.4, 163.07999999999998, 'X[1] <= 0.5\\ngini = 0.5\\nsamples = 16\\nvalue = [8, 8]'),\n",
       " Text(83.7, 54.360000000000014, 'gini = 0.0\\nsamples = 8\\nvalue = [8, 0]'),\n",
       " Text(251.10000000000002, 54.360000000000014, 'gini = 0.0\\nsamples = 8\\nvalue = [0, 8]')]"
      ]
     },
     "execution_count": 4,
     "metadata": {},
     "output_type": "execute_result"
    },
    {
     "data": {
      "image/png": "[encoded data removed]",
      "text/plain": [
       "<Figure size 432x288 with 1 Axes>"
      ]
     },
     "metadata": {
      "needs_background": "light"
     },
     "output_type": "display_data"
    }
   ],
   "source": [
    "## Decision tree without privatization\n",
    "print(data_set)\n",
    "clf = tree.DecisionTreeClassifier()\n",
    "clf = clf.fit(data_set['samples'], data_set['labels'])\n",
    "\n",
    "tree.plot_tree(clf.fit(data_set['samples'], data_set['labels']))"
   ]
  },
  {
   "cell_type": "code",
   "execution_count": 5,
   "metadata": {},
   "outputs": [
    {
     "ename": "ModuleNotFoundError",
     "evalue": "No module named 'abstractPrivatizer'",
     "output_type": "error",
     "traceback": [
      "\u001b[0;31m---------------------------------------------------------------------------\u001b[0m",
      "\u001b[0;31mModuleNotFoundError\u001b[0m                       Traceback (most recent call last)",
      "\u001b[0;32m<ipython-input-5-b384ce6b302b>\u001b[0m in \u001b[0;36m<module>\u001b[0;34m\u001b[0m\n\u001b[1;32m      1\u001b[0m \u001b[0;31m## Privatization\u001b[0m\u001b[0;34m\u001b[0m\u001b[0;34m\u001b[0m\u001b[0;34m\u001b[0m\u001b[0m\n\u001b[0;32m----> 2\u001b[0;31m \u001b[0;32mfrom\u001b[0m \u001b[0mprivatizers\u001b[0m \u001b[0;32mimport\u001b[0m \u001b[0mcoinPrivatizer\u001b[0m\u001b[0;34m\u001b[0m\u001b[0;34m\u001b[0m\u001b[0m\n\u001b[0m\u001b[1;32m      3\u001b[0m \u001b[0;34m\u001b[0m\u001b[0m\n\u001b[1;32m      4\u001b[0m \u001b[0mprivate_format\u001b[0m \u001b[0;34m=\u001b[0m \u001b[0;34m[\u001b[0m\u001b[0;34m]\u001b[0m\u001b[0;34m\u001b[0m\u001b[0;34m\u001b[0m\u001b[0m\n\u001b[1;32m      5\u001b[0m \u001b[0;34m\u001b[0m\u001b[0m\n",
      "\u001b[0;32m~/Documents/ITA/TG/tg-differential-privacy/code/src/code/privatizers/coinPrivatizer.py\u001b[0m in \u001b[0;36m<module>\u001b[0;34m\u001b[0m\n\u001b[1;32m      1\u001b[0m \u001b[0;32mimport\u001b[0m \u001b[0mrandom\u001b[0m\u001b[0;34m\u001b[0m\u001b[0;34m\u001b[0m\u001b[0m\n\u001b[0;32m----> 2\u001b[0;31m \u001b[0;32mimport\u001b[0m \u001b[0mabstractPrivatizer\u001b[0m\u001b[0;34m\u001b[0m\u001b[0;34m\u001b[0m\u001b[0m\n\u001b[0m\u001b[1;32m      3\u001b[0m \u001b[0;34m\u001b[0m\u001b[0m\n\u001b[1;32m      4\u001b[0m \u001b[0;32mclass\u001b[0m \u001b[0mCoinPrivatizer\u001b[0m\u001b[0;34m(\u001b[0m\u001b[0mabstractPrivatizer\u001b[0m\u001b[0;34m.\u001b[0m\u001b[0mAbstractPrivatizer\u001b[0m\u001b[0;34m)\u001b[0m\u001b[0;34m:\u001b[0m\u001b[0;34m\u001b[0m\u001b[0;34m\u001b[0m\u001b[0m\n\u001b[1;32m      5\u001b[0m   \u001b[0m_headsProbability\u001b[0m \u001b[0;34m=\u001b[0m \u001b[0;36m0.5\u001b[0m\u001b[0;34m\u001b[0m\u001b[0;34m\u001b[0m\u001b[0m\n",
      "\u001b[0;31mModuleNotFoundError\u001b[0m: No module named 'abstractPrivatizer'"
     ]
    }
   ],
   "source": [
    "## Privatization\n",
    "from privatizers import coinPrivatizer\n",
    "\n",
    "private_format = []\n",
    "\n",
    "for index, value in enumerate(data_set['samples']):\n",
    "    single_list = []\n",
    "    for num in value:\n",
    "        single_list.append(False if num == 0 else True)\n",
    "    single_list.append(False if data_set['labels'][index]==0 else True)\n",
    "    private_format.append(single_list)\n",
    "\n",
    "coin_privatizer = coinPrivatizer.CoinPrivatizer()\n",
    "private_format = coin_privatizer.privatize(private_format)\n",
    "\n",
    "private_data_set = {\n",
    "    'samples': [],\n",
    "    'labels': []\n",
    "}\n",
    "\n",
    "for value in private_format:\n",
    "    private_data_set['labels'].append(1 if value.pop() else 0)\n",
    "    single_list = []\n",
    "    for v in value:\n",
    "        single_list.append(1 if v else 0)\n",
    "    private_data_set['samples'].append(single_list)\n"
   ]
  },
  {
   "cell_type": "code",
   "execution_count": null,
   "metadata": {},
   "outputs": [],
   "source": [
    "## Decision tree with privatization\n",
    "print(private_data_set)\n",
    "clf = tree.DecisionTreeClassifier()\n",
    "clf = clf.fit(private_data_set['samples'], private_data_set['labels'])\n",
    "\n",
    "tree.plot_tree(clf.fit(private_data_set['samples'], private_data_set['labels']))"
   ]
  },
  {
   "cell_type": "code",
   "execution_count": null,
   "metadata": {},
   "outputs": [],
   "source": []
  },
  {
   "cell_type": "code",
   "execution_count": null,
   "metadata": {},
   "outputs": [],
   "source": []
  },
  {
   "cell_type": "code",
   "execution_count": null,
   "metadata": {},
   "outputs": [],
   "source": []
  }
 ],
 "metadata": {
  "kernelspec": {
   "display_name": "Python 3",
   "language": "python",
   "name": "python3"
  },
  "language_info": {
   "codemirror_mode": {
    "name": "ipython",
    "version": 3
   },
   "file_extension": ".py",
   "mimetype": "text/x-python",
   "name": "python",
   "nbconvert_exporter": "python",
   "pygments_lexer": "ipython3",
   "version": "3.7.1"
  }
 },
 "nbformat": 4,
 "nbformat_minor": 2
}
