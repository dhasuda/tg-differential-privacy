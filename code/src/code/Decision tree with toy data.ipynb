{
 "cells": [
  {
   "cell_type": "code",
   "execution_count": 1,
   "metadata": {},
   "outputs": [],
   "source": [
    "# Let's start with a simple example of the scikit lib use\n",
    "\n",
    "import sys\n",
    "sys.path.append('./privatizers')\n",
    "sys.path.append('./dataProviders')\n",
    "sys.path.append('./adapters')\n",
    "\n",
    "from sklearn import tree\n",
    "from dataProviders import breastCancerDataProvider as dataProvider\n",
    "from adapters import breastCancerAdapter as adapter\n",
    "\n",
    "dp = dataProvider.BreastCancerDP()\n",
    "\n",
    "X = dp.getAllData()\n",
    "Y = dp.getAllTargets()\n"
   ]
  },
  {
   "cell_type": "code",
   "execution_count": 2,
   "metadata": {},
   "outputs": [],
   "source": [
    "## Dataset\n",
    "data_set = {\n",
    "    'samples': X,\n",
    "    'labels': Y\n",
    "}\n",
    "\n"
   ]
  },
  {
   "cell_type": "code",
   "execution_count": 3,
   "metadata": {
    "scrolled": true
   },
   "outputs": [
    {
     "data": {
      "text/plain": [
       "[Text(302.25, 346.49999999999994, 'X[20] <= 16.795\\ngini = 0.468\\nsamples = 569\\nvalue = [212, 357]'),\n",
       " Text(186.0, 300.29999999999995, 'X[27] <= 0.136\\ngini = 0.159\\nsamples = 379\\nvalue = [33, 346]'),\n",
       " Text(85.25, 254.09999999999997, 'X[28] <= 0.157\\ngini = 0.03\\nsamples = 333\\nvalue = [5, 328]'),\n",
       " Text(69.75, 207.89999999999998, 'gini = 0.0\\nsamples = 1\\nvalue = [1, 0]'),\n",
       " Text(100.75, 207.89999999999998, 'X[13] <= 38.605\\ngini = 0.024\\nsamples = 332\\nvalue = [4, 328]'),\n",
       " Text(62.0, 161.7, 'X[14] <= 0.003\\ngini = 0.012\\nsamples = 319\\nvalue = [2, 317]'),\n",
       " Text(31.0, 115.5, 'X[21] <= 27.755\\ngini = 0.245\\nsamples = 7\\nvalue = [1, 6]'),\n",
       " Text(15.5, 69.30000000000001, 'gini = 0.0\\nsamples = 6\\nvalue = [0, 6]'),\n",
       " Text(46.5, 69.30000000000001, 'gini = 0.0\\nsamples = 1\\nvalue = [1, 0]'),\n",
       " Text(93.0, 115.5, 'X[21] <= 33.27\\ngini = 0.006\\nsamples = 312\\nvalue = [1, 311]'),\n",
       " Text(77.5, 69.30000000000001, 'gini = 0.0\\nsamples = 292\\nvalue = [0, 292]'),\n",
       " Text(108.5, 69.30000000000001, 'X[21] <= 33.56\\ngini = 0.095\\nsamples = 20\\nvalue = [1, 19]'),\n",
       " Text(93.0, 23.100000000000023, 'gini = 0.0\\nsamples = 1\\nvalue = [1, 0]'),\n",
       " Text(124.0, 23.100000000000023, 'gini = 0.0\\nsamples = 19\\nvalue = [0, 19]'),\n",
       " Text(139.5, 161.7, 'X[5] <= 0.06\\ngini = 0.26\\nsamples = 13\\nvalue = [2, 11]'),\n",
       " Text(124.0, 115.5, 'gini = 0.0\\nsamples = 1\\nvalue = [1, 0]'),\n",
       " Text(155.0, 115.5, 'X[26] <= 0.328\\ngini = 0.153\\nsamples = 12\\nvalue = [1, 11]'),\n",
       " Text(139.5, 69.30000000000001, 'gini = 0.0\\nsamples = 11\\nvalue = [0, 11]'),\n",
       " Text(170.5, 69.30000000000001, 'gini = 0.0\\nsamples = 1\\nvalue = [1, 0]'),\n",
       " Text(286.75, 254.09999999999997, 'X[21] <= 25.67\\ngini = 0.476\\nsamples = 46\\nvalue = [28, 18]'),\n",
       " Text(232.5, 207.89999999999998, 'X[23] <= 810.3\\ngini = 0.332\\nsamples = 19\\nvalue = [4, 15]'),\n",
       " Text(201.5, 161.7, 'X[24] <= 0.179\\ngini = 0.124\\nsamples = 15\\nvalue = [1, 14]'),\n",
       " Text(186.0, 115.5, 'gini = 0.0\\nsamples = 14\\nvalue = [0, 14]'),\n",
       " Text(217.0, 115.5, 'gini = 0.0\\nsamples = 1\\nvalue = [1, 0]'),\n",
       " Text(263.5, 161.7, 'X[0] <= 14.19\\ngini = 0.375\\nsamples = 4\\nvalue = [3, 1]'),\n",
       " Text(248.0, 115.5, 'gini = 0.0\\nsamples = 3\\nvalue = [3, 0]'),\n",
       " Text(279.0, 115.5, 'gini = 0.0\\nsamples = 1\\nvalue = [0, 1]'),\n",
       " Text(341.0, 207.89999999999998, 'X[6] <= 0.097\\ngini = 0.198\\nsamples = 27\\nvalue = [24, 3]'),\n",
       " Text(325.5, 161.7, 'X[1] <= 19.435\\ngini = 0.5\\nsamples = 6\\nvalue = [3, 3]'),\n",
       " Text(310.0, 115.5, 'gini = 0.0\\nsamples = 3\\nvalue = [0, 3]'),\n",
       " Text(341.0, 115.5, 'gini = 0.0\\nsamples = 3\\nvalue = [3, 0]'),\n",
       " Text(356.5, 161.7, 'gini = 0.0\\nsamples = 21\\nvalue = [21, 0]'),\n",
       " Text(418.5, 300.29999999999995, 'X[1] <= 16.11\\ngini = 0.109\\nsamples = 190\\nvalue = [179, 11]'),\n",
       " Text(387.5, 254.09999999999997, 'X[16] <= 0.034\\ngini = 0.498\\nsamples = 17\\nvalue = [8, 9]'),\n",
       " Text(372.0, 207.89999999999998, 'gini = 0.0\\nsamples = 9\\nvalue = [0, 9]'),\n",
       " Text(403.0, 207.89999999999998, 'gini = 0.0\\nsamples = 8\\nvalue = [8, 0]'),\n",
       " Text(449.5, 254.09999999999997, 'X[24] <= 0.088\\ngini = 0.023\\nsamples = 173\\nvalue = [171, 2]'),\n",
       " Text(434.0, 207.89999999999998, 'gini = 0.0\\nsamples = 1\\nvalue = [0, 1]'),\n",
       " Text(465.0, 207.89999999999998, 'X[26] <= 0.18\\ngini = 0.012\\nsamples = 172\\nvalue = [171, 1]'),\n",
       " Text(449.5, 161.7, 'X[10] <= 0.359\\ngini = 0.375\\nsamples = 4\\nvalue = [3, 1]'),\n",
       " Text(434.0, 115.5, 'gini = 0.0\\nsamples = 1\\nvalue = [0, 1]'),\n",
       " Text(465.0, 115.5, 'gini = 0.0\\nsamples = 3\\nvalue = [3, 0]'),\n",
       " Text(480.5, 161.7, 'gini = 0.0\\nsamples = 168\\nvalue = [168, 0]')]"
      ]
     },
     "execution_count": 3,
     "metadata": {},
     "output_type": "execute_result"
    }
   ],
   "source": [
    "## Decision tree without privatization\n",
    "clf = tree.DecisionTreeClassifier()\n",
    "# clf = clf.fit(data_set['samples'], data_set['labels'])\n",
    "\n",
    "tree.plot_tree(clf.fit(data_set['samples'], data_set['labels']))"
   ]
  },
  {
   "cell_type": "code",
   "execution_count": 4,
   "metadata": {},
   "outputs": [],
   "source": [
    "## Privatization: Coin privatizer\n",
    "\n",
    "# from privatizers import coinPrivatizer\n",
    "\n",
    "# private_format = []\n",
    "\n",
    "# for index, value in enumerate(data_set['samples']):\n",
    "#     single_list = []\n",
    "#     for num in value:\n",
    "#         single_list.append(False if num == 0 else True)\n",
    "#     single_list.append(False if data_set['labels'][index]==0 else True)\n",
    "#     private_format.append(single_list)\n",
    "\n",
    "# coin_privatizer = coinPrivatizer.CoinPrivatizer()\n",
    "# private_format = coin_privatizer.privatize(private_format)\n",
    "\n",
    "# private_data_set = {\n",
    "#     'samples': [],\n",
    "#     'labels': []\n",
    "# }\n",
    "\n",
    "# for value in private_format:\n",
    "#     private_data_set['labels'].append(1 if value.pop() else 0)\n",
    "#     single_list = []\n",
    "#     for v in value:\n",
    "#         single_list.append(1 if v else 0)\n",
    "#     private_data_set['samples'].append(single_list)\n",
    "\n",
    "# clf = tree.DecisionTreeClassifier()\n",
    "# clf = clf.fit(private_data_set['samples'], private_data_set['labels'])\n",
    "\n",
    "# tree.plot_tree(clf.fit(private_data_set['samples'], private_data_set['labels']))"
   ]
  },
  {
   "cell_type": "code",
   "execution_count": 5,
   "metadata": {},
   "outputs": [
    {
     "data": {
      "text/plain": [
       "[Text(207.75535714285715, 205.35999999999999, 'X[20] <= 16.801\\ngini = 0.468\\nsamples = 569\\nvalue = [212, 357]'),\n",
       " Text(140.49642857142857, 181.2, 'X[26] <= 0.304\\ngini = 0.159\\nsamples = 379\\nvalue = [33, 346]'),\n",
       " Text(89.67857142857143, 157.04, 'X[12] <= 6.615\\ngini = 0.031\\nsamples = 313\\nvalue = [5, 308]'),\n",
       " Text(77.72142857142858, 132.88, 'X[27] <= 0.16\\ngini = 0.025\\nsamples = 312\\nvalue = [4, 308]'),\n",
       " Text(47.82857142857143, 108.72, 'X[10] <= 0.654\\ngini = 0.013\\nsamples = 300\\nvalue = [2, 298]'),\n",
       " Text(23.914285714285715, 84.56, 'X[23] <= 785.716\\ngini = 0.007\\nsamples = 296\\nvalue = [1, 295]'),\n",
       " Text(11.957142857142857, 60.400000000000006, 'gini = 0.0\\nsamples = 278\\nvalue = [0, 278]'),\n",
       " Text(35.871428571428574, 60.400000000000006, 'X[22] <= 102.622\\ngini = 0.105\\nsamples = 18\\nvalue = [1, 17]'),\n",
       " Text(23.914285714285715, 36.24000000000001, 'gini = 0.0\\nsamples = 1\\nvalue = [1, 0]'),\n",
       " Text(47.82857142857143, 36.24000000000001, 'gini = 0.0\\nsamples = 17\\nvalue = [0, 17]'),\n",
       " Text(71.74285714285715, 84.56, 'X[24] <= 0.117\\ngini = 0.375\\nsamples = 4\\nvalue = [1, 3]'),\n",
       " Text(59.785714285714285, 60.400000000000006, 'gini = 0.0\\nsamples = 1\\nvalue = [1, 0]'),\n",
       " Text(83.7, 60.400000000000006, 'gini = 0.0\\nsamples = 3\\nvalue = [0, 3]'),\n",
       " Text(107.61428571428571, 108.72, 'X[27] <= 0.163\\ngini = 0.278\\nsamples = 12\\nvalue = [2, 10]'),\n",
       " Text(95.65714285714286, 84.56, 'gini = 0.0\\nsamples = 2\\nvalue = [2, 0]'),\n",
       " Text(119.57142857142857, 84.56, 'gini = 0.0\\nsamples = 10\\nvalue = [0, 10]'),\n",
       " Text(101.63571428571429, 132.88, 'gini = 0.0\\nsamples = 1\\nvalue = [1, 0]'),\n",
       " Text(191.31428571428572, 157.04, 'X[20] <= 14.902\\ngini = 0.489\\nsamples = 66\\nvalue = [28, 38]'),\n",
       " Text(167.4, 132.88, 'X[5] <= 0.2\\ngini = 0.18\\nsamples = 30\\nvalue = [3, 27]'),\n",
       " Text(155.44285714285715, 108.72, 'X[24] <= 0.24\\ngini = 0.069\\nsamples = 28\\nvalue = [1, 27]'),\n",
       " Text(143.4857142857143, 84.56, 'gini = 0.0\\nsamples = 26\\nvalue = [0, 26]'),\n",
       " Text(167.4, 84.56, 'X[21] <= 30.431\\ngini = 0.5\\nsamples = 2\\nvalue = [1, 1]'),\n",
       " Text(155.44285714285715, 60.400000000000006, 'gini = 0.0\\nsamples = 1\\nvalue = [0, 1]'),\n",
       " Text(179.35714285714286, 60.400000000000006, 'gini = 0.0\\nsamples = 1\\nvalue = [1, 0]'),\n",
       " Text(179.35714285714286, 108.72, 'gini = 0.0\\nsamples = 2\\nvalue = [2, 0]'),\n",
       " Text(215.22857142857143, 132.88, 'X[17] <= 0.047\\ngini = 0.424\\nsamples = 36\\nvalue = [25, 11]'),\n",
       " Text(203.27142857142857, 108.72, 'X[24] <= 0.08\\ngini = 0.238\\nsamples = 29\\nvalue = [25, 4]'),\n",
       " Text(191.31428571428572, 84.56, 'gini = 0.0\\nsamples = 2\\nvalue = [0, 2]'),\n",
       " Text(215.22857142857143, 84.56, 'X[19] <= -0.078\\ngini = 0.137\\nsamples = 27\\nvalue = [25, 2]'),\n",
       " Text(203.27142857142857, 60.400000000000006, 'gini = 0.0\\nsamples = 1\\nvalue = [0, 1]'),\n",
       " Text(227.18571428571428, 60.400000000000006, 'X[22] <= 101.623\\ngini = 0.074\\nsamples = 26\\nvalue = [25, 1]'),\n",
       " Text(215.22857142857143, 36.24000000000001, 'X[3] <= 525.631\\ngini = 0.444\\nsamples = 3\\nvalue = [2, 1]'),\n",
       " Text(203.27142857142857, 12.079999999999984, 'gini = 0.0\\nsamples = 2\\nvalue = [2, 0]'),\n",
       " Text(227.18571428571428, 12.079999999999984, 'gini = 0.0\\nsamples = 1\\nvalue = [0, 1]'),\n",
       " Text(239.14285714285714, 36.24000000000001, 'gini = 0.0\\nsamples = 23\\nvalue = [23, 0]'),\n",
       " Text(227.18571428571428, 108.72, 'gini = 0.0\\nsamples = 7\\nvalue = [0, 7]'),\n",
       " Text(275.01428571428573, 181.2, 'X[21] <= 19.908\\ngini = 0.109\\nsamples = 190\\nvalue = [179, 11]'),\n",
       " Text(251.1, 157.04, 'X[20] <= 17.806\\ngini = 0.498\\nsamples = 17\\nvalue = [8, 9]'),\n",
       " Text(239.14285714285714, 132.88, 'gini = 0.0\\nsamples = 8\\nvalue = [0, 8]'),\n",
       " Text(263.0571428571429, 132.88, 'X[8] <= 0.151\\ngini = 0.198\\nsamples = 9\\nvalue = [8, 1]'),\n",
       " Text(251.1, 108.72, 'gini = 0.0\\nsamples = 1\\nvalue = [0, 1]'),\n",
       " Text(275.01428571428573, 108.72, 'gini = 0.0\\nsamples = 8\\nvalue = [8, 0]'),\n",
       " Text(298.92857142857144, 157.04, 'X[17] <= -0.139\\ngini = 0.023\\nsamples = 173\\nvalue = [171, 2]'),\n",
       " Text(286.9714285714286, 132.88, 'gini = 0.0\\nsamples = 1\\nvalue = [0, 1]'),\n",
       " Text(310.8857142857143, 132.88, 'X[26] <= 0.149\\ngini = 0.012\\nsamples = 172\\nvalue = [171, 1]'),\n",
       " Text(298.92857142857144, 108.72, 'X[4] <= 0.072\\ngini = 0.375\\nsamples = 4\\nvalue = [3, 1]'),\n",
       " Text(286.9714285714286, 84.56, 'gini = 0.0\\nsamples = 3\\nvalue = [3, 0]'),\n",
       " Text(310.8857142857143, 84.56, 'gini = 0.0\\nsamples = 1\\nvalue = [0, 1]'),\n",
       " Text(322.84285714285716, 108.72, 'gini = 0.0\\nsamples = 168\\nvalue = [168, 0]')]"
      ]
     },
     "execution_count": 5,
     "metadata": {},
     "output_type": "execute_result"
    },
    {
     "data": {
      "image/png": "[encoded data removed]",
      "text/plain": [
       "<Figure size 432x288 with 1 Axes>"
      ]
     },
     "metadata": {
      "needs_background": "light"
     },
     "output_type": "display_data"
    }
   ],
   "source": [
    "## Privatization: Laplace privatizer\n",
    "from privatizers import laplacePrivatizer\n",
    "\n",
    "scale = 0.03\n",
    "privatizer = laplacePrivatizer.LaplacePrivatizer(scale)\n",
    "privateData = privatizer.privatize(adapter.fromRaw(data_set['samples']))\n",
    "\n",
    "privateTargetsFloat = privatizer.privatize(adapter.fromRaw(data_set['labels']))\n",
    "privateTargets = adapter.toBinaryInt(privateTargetsFloat)\n",
    "\n",
    "clf = tree.DecisionTreeClassifier()\n",
    "tree.plot_tree(clf.fit(privateData, privateTargets))"
   ]
  },
  {
   "cell_type": "code",
   "execution_count": 6,
   "metadata": {},
   "outputs": [
    {
     "data": {
      "text/plain": [
       "[Text(222.98203125, 207.55636363636364, 'X[20] <= 16.827\\ngini = 0.468\\nsamples = 569\\nvalue = [212, 357]'),\n",
       " Text(163.4765625, 187.7890909090909, 'X[26] <= 0.441\\ngini = 0.159\\nsamples = 379\\nvalue = [33, 346]'),\n",
       " Text(117.703125, 168.0218181818182, 'X[22] <= 105.979\\ngini = 0.067\\nsamples = 344\\nvalue = [12, 332]'),\n",
       " Text(88.93125, 148.25454545454545, 'X[12] <= 6.606\\ngini = 0.036\\nsamples = 323\\nvalue = [6, 317]'),\n",
       " Text(78.46875, 128.48727272727274, 'X[27] <= 0.195\\ngini = 0.031\\nsamples = 322\\nvalue = [5, 317]'),\n",
       " Text(52.3125, 108.72, 'X[13] <= 48.992\\ngini = 0.019\\nsamples = 312\\nvalue = [3, 309]'),\n",
       " Text(31.387500000000003, 88.95272727272729, 'X[21] <= 31.679\\ngini = 0.013\\nsamples = 309\\nvalue = [2, 307]'),\n",
       " Text(20.925, 69.18545454545455, 'gini = 0.0\\nsamples = 278\\nvalue = [0, 278]'),\n",
       " Text(41.85, 69.18545454545455, 'X[4] <= 0.158\\ngini = 0.121\\nsamples = 31\\nvalue = [2, 29]'),\n",
       " Text(31.387500000000003, 49.418181818181836, 'X[15] <= 0.015\\ngini = 0.064\\nsamples = 30\\nvalue = [1, 29]'),\n",
       " Text(20.925, 29.650909090909096, 'X[6] <= 0.048\\ngini = 0.5\\nsamples = 2\\nvalue = [1, 1]'),\n",
       " Text(10.4625, 9.883636363636384, 'gini = 0.0\\nsamples = 1\\nvalue = [0, 1]'),\n",
       " Text(31.387500000000003, 9.883636363636384, 'gini = 0.0\\nsamples = 1\\nvalue = [1, 0]'),\n",
       " Text(41.85, 29.650909090909096, 'gini = 0.0\\nsamples = 28\\nvalue = [0, 28]'),\n",
       " Text(52.3125, 49.418181818181836, 'gini = 0.0\\nsamples = 1\\nvalue = [1, 0]'),\n",
       " Text(73.2375, 88.95272727272729, 'X[3] <= 469.325\\ngini = 0.444\\nsamples = 3\\nvalue = [1, 2]'),\n",
       " Text(62.775000000000006, 69.18545454545455, 'gini = 0.0\\nsamples = 1\\nvalue = [1, 0]'),\n",
       " Text(83.7, 69.18545454545455, 'gini = 0.0\\nsamples = 2\\nvalue = [0, 2]'),\n",
       " Text(104.625, 108.72, 'X[26] <= 0.324\\ngini = 0.32\\nsamples = 10\\nvalue = [2, 8]'),\n",
       " Text(94.16250000000001, 88.95272727272729, 'gini = 0.0\\nsamples = 8\\nvalue = [0, 8]'),\n",
       " Text(115.0875, 88.95272727272729, 'gini = 0.0\\nsamples = 2\\nvalue = [2, 0]'),\n",
       " Text(99.39375, 128.48727272727274, 'gini = 0.0\\nsamples = 1\\nvalue = [1, 0]'),\n",
       " Text(146.475, 148.25454545454545, 'X[0] <= 14.096\\ngini = 0.408\\nsamples = 21\\nvalue = [6, 15]'),\n",
       " Text(136.01250000000002, 128.48727272727274, 'gini = 0.0\\nsamples = 3\\nvalue = [3, 0]'),\n",
       " Text(156.9375, 128.48727272727274, 'X[14] <= 0.061\\ngini = 0.278\\nsamples = 18\\nvalue = [3, 15]'),\n",
       " Text(146.475, 108.72, 'X[11] <= 1.705\\ngini = 0.117\\nsamples = 16\\nvalue = [1, 15]'),\n",
       " Text(136.01250000000002, 88.95272727272729, 'gini = 0.0\\nsamples = 14\\nvalue = [0, 14]'),\n",
       " Text(156.9375, 88.95272727272729, 'X[14] <= 0.036\\ngini = 0.5\\nsamples = 2\\nvalue = [1, 1]'),\n",
       " Text(146.475, 69.18545454545455, 'gini = 0.0\\nsamples = 1\\nvalue = [1, 0]'),\n",
       " Text(167.4, 69.18545454545455, 'gini = 0.0\\nsamples = 1\\nvalue = [0, 1]'),\n",
       " Text(167.4, 108.72, 'gini = 0.0\\nsamples = 2\\nvalue = [2, 0]'),\n",
       " Text(209.25, 168.0218181818182, 'X[27] <= 0.184\\ngini = 0.48\\nsamples = 35\\nvalue = [21, 14]'),\n",
       " Text(188.32500000000002, 148.25454545454545, 'X[1] <= 21.239\\ngini = 0.36\\nsamples = 17\\nvalue = [4, 13]'),\n",
       " Text(177.8625, 128.48727272727274, 'gini = 0.0\\nsamples = 12\\nvalue = [0, 12]'),\n",
       " Text(198.7875, 128.48727272727274, 'X[5] <= 0.169\\ngini = 0.32\\nsamples = 5\\nvalue = [4, 1]'),\n",
       " Text(188.32500000000002, 108.72, 'gini = 0.0\\nsamples = 4\\nvalue = [4, 0]'),\n",
       " Text(209.25, 108.72, 'gini = 0.0\\nsamples = 1\\nvalue = [0, 1]'),\n",
       " Text(230.175, 148.25454545454545, 'X[0] <= 10.48\\ngini = 0.105\\nsamples = 18\\nvalue = [17, 1]'),\n",
       " Text(219.7125, 128.48727272727274, 'gini = 0.0\\nsamples = 1\\nvalue = [0, 1]'),\n",
       " Text(240.63750000000002, 128.48727272727274, 'gini = 0.0\\nsamples = 17\\nvalue = [17, 0]'),\n",
       " Text(282.4875, 187.7890909090909, 'X[1] <= 16.145\\ngini = 0.109\\nsamples = 190\\nvalue = [179, 11]'),\n",
       " Text(261.5625, 168.0218181818182, 'X[23] <= 964.404\\ngini = 0.498\\nsamples = 17\\nvalue = [8, 9]'),\n",
       " Text(251.10000000000002, 148.25454545454545, 'gini = 0.0\\nsamples = 8\\nvalue = [0, 8]'),\n",
       " Text(272.02500000000003, 148.25454545454545, 'X[24] <= 0.114\\ngini = 0.198\\nsamples = 9\\nvalue = [8, 1]'),\n",
       " Text(261.5625, 128.48727272727274, 'gini = 0.0\\nsamples = 1\\nvalue = [0, 1]'),\n",
       " Text(282.4875, 128.48727272727274, 'gini = 0.0\\nsamples = 8\\nvalue = [8, 0]'),\n",
       " Text(303.4125, 168.0218181818182, 'X[24] <= 0.105\\ngini = 0.023\\nsamples = 173\\nvalue = [171, 2]'),\n",
       " Text(292.95, 148.25454545454545, 'gini = 0.0\\nsamples = 1\\nvalue = [0, 1]'),\n",
       " Text(313.875, 148.25454545454545, 'X[27] <= 0.101\\ngini = 0.012\\nsamples = 172\\nvalue = [171, 1]'),\n",
       " Text(303.4125, 128.48727272727274, 'X[8] <= 0.169\\ngini = 0.444\\nsamples = 3\\nvalue = [2, 1]'),\n",
       " Text(292.95, 108.72, 'gini = 0.0\\nsamples = 1\\nvalue = [0, 1]'),\n",
       " Text(313.875, 108.72, 'gini = 0.0\\nsamples = 2\\nvalue = [2, 0]'),\n",
       " Text(324.33750000000003, 128.48727272727274, 'gini = 0.0\\nsamples = 169\\nvalue = [169, 0]')]"
      ]
     },
     "execution_count": 6,
     "metadata": {},
     "output_type": "execute_result"
    },
    {
     "data": {
      "image/png": "[encoded data removed]",
      "text/plain": [
       "<Figure size 432x288 with 1 Axes>"
      ]
     },
     "metadata": {
      "needs_background": "light"
     },
     "output_type": "display_data"
    }
   ],
   "source": [
    "## Privatization: Exponential privatizer\n",
    "from privatizers import exponentialPrivatizer\n",
    "\n",
    "scale = 0.03\n",
    "privatizer = exponentialPrivatizer.ExponentialPrivatizer(scale)\n",
    "privateData = privatizer.privatize(adapter.fromRaw(data_set['samples']))\n",
    "\n",
    "privateTargetsFloat = privatizer.privatize(adapter.fromRaw(data_set['labels']))\n",
    "privateTargets = adapter.toBinaryInt(privateTargetsFloat)\n",
    "\n",
    "clf = tree.DecisionTreeClassifier()\n",
    "\n",
    "tree.plot_tree(clf.fit(privateData, privateTargets))"
   ]
  },
  {
   "cell_type": "code",
   "execution_count": null,
   "metadata": {},
   "outputs": [],
   "source": []
  }
 ],
 "metadata": {
  "kernelspec": {
   "display_name": "Python 3",
   "language": "python",
   "name": "python3"
  },
  "language_info": {
   "codemirror_mode": {
    "name": "ipython",
    "version": 3
   },
   "file_extension": ".py",
   "mimetype": "text/x-python",
   "name": "python",
   "nbconvert_exporter": "python",
   "pygments_lexer": "ipython3",
   "version": "3.7.4"
  }
 },
 "nbformat": 4,
 "nbformat_minor": 2
}
