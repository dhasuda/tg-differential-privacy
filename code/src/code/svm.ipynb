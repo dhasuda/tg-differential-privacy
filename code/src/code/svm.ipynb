{
 "cells": [
  {
   "cell_type": "code",
   "execution_count": 1,
   "metadata": {},
   "outputs": [],
   "source": [
    "# Let's start with a simple example of the scikit lib use\n",
    "\n",
    "import sys\n",
    "sys.path.append('./privatizers')\n",
    "sys.path.append('./dataProviders')\n",
    "sys.path.append('./adapters')\n",
    "\n",
    "from sklearn import svm\n",
    "from dataProviders import breastCancerDataProvider as dataProvider\n",
    "from adapters import breastCancerAdapter as adapter\n",
    "\n",
    "dp = dataProvider.BreastCancerDP()\n",
    "\n",
    "X = dp.getAllData()\n",
    "Y = dp.getAllTargets()\n"
   ]
  },
  {
   "cell_type": "code",
   "execution_count": 2,
   "metadata": {},
   "outputs": [],
   "source": [
    "## Dataset\n",
    "data_set = {\n",
    "    'samples': X,\n",
    "    'labels': Y\n",
    "}"
   ]
  },
  {
   "cell_type": "code",
   "execution_count": 3,
   "metadata": {},
   "outputs": [
    {
     "data": {
      "text/plain": [
       "SVC(C=1.0, cache_size=200, class_weight=None, coef0=0.0,\n",
       "    decision_function_shape='ovr', degree=3, gamma='scale', kernel='rbf',\n",
       "    max_iter=-1, probability=False, random_state=None, shrinking=True,\n",
       "    tol=0.001, verbose=False)"
      ]
     },
     "execution_count": 3,
     "metadata": {},
     "output_type": "execute_result"
    }
   ],
   "source": [
    "## SVM without privatization\n",
    "clf = svm.SVC(gamma='scale')\n",
    "clf.fit(data_set['samples'], data_set['labels'])  "
   ]
  },
  {
   "cell_type": "code",
   "execution_count": 4,
   "metadata": {},
   "outputs": [],
   "source": [
    "## Privatization: Coin privatizer\n"
   ]
  },
  {
   "cell_type": "code",
   "execution_count": 5,
   "metadata": {},
   "outputs": [
    {
     "data": {
      "text/plain": [
       "SVC(C=1.0, cache_size=200, class_weight=None, coef0=0.0,\n",
       "    decision_function_shape='ovr', degree=3, gamma='scale', kernel='rbf',\n",
       "    max_iter=-1, probability=False, random_state=None, shrinking=True,\n",
       "    tol=0.001, verbose=False)"
      ]
     },
     "execution_count": 5,
     "metadata": {},
     "output_type": "execute_result"
    }
   ],
   "source": [
    "## Privatization: Laplace privatizer\n",
    "from privatizers import laplacePrivatizer\n",
    "\n",
    "scale = 0.03\n",
    "privatizer = laplacePrivatizer.LaplacePrivatizer(scale)\n",
    "privateData = privatizer.privatize(adapter.fromRaw(data_set['samples']))\n",
    "\n",
    "privateTargetsFloat = privatizer.privatize(adapter.fromRaw(data_set['labels']))\n",
    "privateTargets = adapter.toBinaryInt(privateTargetsFloat)\n",
    "\n",
    "clf = svm.SVC(gamma='scale')\n",
    "clf.fit(privateData, privateTargets)"
   ]
  },
  {
   "cell_type": "code",
   "execution_count": 6,
   "metadata": {},
   "outputs": [
    {
     "data": {
      "text/plain": [
       "SVC(C=1.0, cache_size=200, class_weight=None, coef0=0.0,\n",
       "    decision_function_shape='ovr', degree=3, gamma='scale', kernel='rbf',\n",
       "    max_iter=-1, probability=False, random_state=None, shrinking=True,\n",
       "    tol=0.001, verbose=False)"
      ]
     },
     "execution_count": 6,
     "metadata": {},
     "output_type": "execute_result"
    }
   ],
   "source": [
    "## Privatization: Exponential privatizer\n",
    "from privatizers import exponentialPrivatizer\n",
    "\n",
    "scale = 0.03\n",
    "privatizer = exponentialPrivatizer.ExponentialPrivatizer(scale)\n",
    "privateData = privatizer.privatize(adapter.fromRaw(data_set['samples']))\n",
    "\n",
    "privateTargetsFloat = privatizer.privatize(adapter.fromRaw(data_set['labels']))\n",
    "privateTargets = adapter.toBinaryInt(privateTargetsFloat)\n",
    "\n",
    "clf = svm.SVC(gamma='scale')\n",
    "clf.fit(privateData, privateTargets)"
   ]
  },
  {
   "cell_type": "code",
   "execution_count": null,
   "metadata": {},
   "outputs": [],
   "source": []
  }
 ],
 "metadata": {
  "kernelspec": {
   "display_name": "Python 3",
   "language": "python",
   "name": "python3"
  },
  "language_info": {
   "codemirror_mode": {
    "name": "ipython",
    "version": 3
   },
   "file_extension": ".py",
   "mimetype": "text/x-python",
   "name": "python",
   "nbconvert_exporter": "python",
   "pygments_lexer": "ipython3",
   "version": "3.7.1"
  }
 },
 "nbformat": 4,
 "nbformat_minor": 2
}
