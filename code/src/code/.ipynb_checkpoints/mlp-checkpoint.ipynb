{
 "cells": [
  {
   "cell_type": "code",
   "execution_count": 16,
   "metadata": {},
   "outputs": [],
   "source": [
    "# Let's start with a simple example of the scikit lib use\n",
    "\n",
    "import sys\n",
    "sys.path.append('./privatizers')\n",
    "sys.path.append('./dataProviders')\n",
    "sys.path.append('./adapters')\n",
    "\n",
    "from sklearn.neural_network import MLPClassifier\n",
    "from dataProviders import breastCancerDataProvider as dataProvider\n",
    "from adapters import breastCancerAdapter as adapter\n",
    "\n",
    "dp = dataProvider.BreastCancerDP()\n",
    "\n",
    "X = dp.getAllData()\n",
    "Y = dp.getAllTargets()\n",
    "\n",
    "X_train, X_test, y_train, y_test = train_test_split( X, Y, test_size = 0.3, random_state = 100)\n"
   ]
  },
  {
   "cell_type": "code",
   "execution_count": 17,
   "metadata": {},
   "outputs": [],
   "source": [
    "## Dataset\n",
    "data_set = {\n",
    "    'samples': X,\n",
    "    'labels': Y\n",
    "}\n",
    "\n",
    "## Size adjustment\n",
    "MAX_SIZE = len(data_set['samples'])\n",
    "desired_size = 80000\n",
    "size = min(desired_size, MAX_SIZE)\n",
    "\n",
    "data_set['samples'] = data_set['samples'][:size]\n",
    "data_set['labels'] = data_set['labels'][:size]"
   ]
  },
  {
   "cell_type": "code",
   "execution_count": 18,
   "metadata": {},
   "outputs": [
    {
     "data": {
      "text/plain": [
       "MLPClassifier(activation='relu', alpha=1e-05, batch_size='auto', beta_1=0.9,\n",
       "              beta_2=0.999, early_stopping=False, epsilon=1e-08,\n",
       "              hidden_layer_sizes=(5, 2), learning_rate='constant',\n",
       "              learning_rate_init=0.001, max_iter=200, momentum=0.9,\n",
       "              n_iter_no_change=10, nesterovs_momentum=True, power_t=0.5,\n",
       "              random_state=1, shuffle=True, solver='lbfgs', tol=0.0001,\n",
       "              validation_fraction=0.1, verbose=False, warm_start=False)"
      ]
     },
     "execution_count": 18,
     "metadata": {},
     "output_type": "execute_result"
    }
   ],
   "source": [
    "## SVM without privatization\n",
    "clf = MLPClassifier(solver='lbfgs', alpha=1e-5, hidden_layer_sizes=(5, 2), random_state=1)\n",
    "clf.fit(data_set['samples'], data_set['labels'])  \n",
    "# clf.predict([data_set['samples'][0]])"
   ]
  },
  {
   "cell_type": "code",
   "execution_count": 19,
   "metadata": {},
   "outputs": [],
   "source": [
    "## Privatization: Coin privatizer\n"
   ]
  },
  {
   "cell_type": "code",
   "execution_count": 20,
   "metadata": {},
   "outputs": [
    {
     "data": {
      "text/plain": [
       "MLPClassifier(activation='relu', alpha=1e-05, batch_size='auto', beta_1=0.9,\n",
       "              beta_2=0.999, early_stopping=False, epsilon=1e-08,\n",
       "              hidden_layer_sizes=(5, 2), learning_rate='constant',\n",
       "              learning_rate_init=0.001, max_iter=200, momentum=0.9,\n",
       "              n_iter_no_change=10, nesterovs_momentum=True, power_t=0.5,\n",
       "              random_state=1, shuffle=True, solver='lbfgs', tol=0.0001,\n",
       "              validation_fraction=0.1, verbose=False, warm_start=False)"
      ]
     },
     "execution_count": 20,
     "metadata": {},
     "output_type": "execute_result"
    }
   ],
   "source": [
    "## Privatization: Laplace privatizer\n",
    "from privatizers import laplacePrivatizer\n",
    "\n",
    "scale = 0.03\n",
    "privatizer = laplacePrivatizer.LaplacePrivatizer(scale)\n",
    "privateData = privatizer.privatize(adapter.fromRaw(data_set['samples']))\n",
    "\n",
    "privateTargetsFloat = privatizer.privatize(adapter.fromRaw(data_set['labels']))\n",
    "privateTargets = adapter.toBinaryInt(privateTargetsFloat)\n",
    "\n",
    "clf = MLPClassifier(solver='lbfgs', alpha=1e-5, hidden_layer_sizes=(5, 2), random_state=1)\n",
    "clf.fit(privateData, privateTargets)"
   ]
  },
  {
   "cell_type": "code",
   "execution_count": 21,
   "metadata": {},
   "outputs": [
    {
     "data": {
      "text/plain": [
       "MLPClassifier(activation='relu', alpha=1e-05, batch_size='auto', beta_1=0.9,\n",
       "              beta_2=0.999, early_stopping=False, epsilon=1e-08,\n",
       "              hidden_layer_sizes=(5, 2), learning_rate='constant',\n",
       "              learning_rate_init=0.001, max_iter=200, momentum=0.9,\n",
       "              n_iter_no_change=10, nesterovs_momentum=True, power_t=0.5,\n",
       "              random_state=1, shuffle=True, solver='lbfgs', tol=0.0001,\n",
       "              validation_fraction=0.1, verbose=False, warm_start=False)"
      ]
     },
     "execution_count": 21,
     "metadata": {},
     "output_type": "execute_result"
    }
   ],
   "source": [
    "## Privatization: Exponential privatizer\n",
    "from privatizers import exponentialPrivatizer\n",
    "\n",
    "scale = 0.03\n",
    "privatizer = exponentialPrivatizer.ExponentialPrivatizer(scale)\n",
    "privateData = privatizer.privatize(adapter.fromRaw(data_set['samples']))\n",
    "\n",
    "privateTargetsFloat = privatizer.privatize(adapter.fromRaw(data_set['labels']))\n",
    "privateTargets = adapter.toBinaryInt(privateTargetsFloat)\n",
    "\n",
    "clf = MLPClassifier(solver='lbfgs', alpha=1e-5, hidden_layer_sizes=(5, 2), random_state=1)\n",
    "clf.fit(privateData, privateTargets)"
   ]
  },
  {
   "cell_type": "code",
   "execution_count": null,
   "metadata": {},
   "outputs": [],
   "source": []
  }
 ],
 "metadata": {
  "kernelspec": {
   "display_name": "Python 3",
   "language": "python",
   "name": "python3"
  },
  "language_info": {
   "codemirror_mode": {
    "name": "ipython",
    "version": 3
   },
   "file_extension": ".py",
   "mimetype": "text/x-python",
   "name": "python",
   "nbconvert_exporter": "python",
   "pygments_lexer": "ipython3",
   "version": "3.7.4"
  }
 },
 "nbformat": 4,
 "nbformat_minor": 2
}
