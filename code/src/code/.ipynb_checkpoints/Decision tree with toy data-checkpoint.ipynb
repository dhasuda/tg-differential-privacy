{
 "cells": [
  {
   "cell_type": "code",
   "execution_count": 1,
   "metadata": {},
   "outputs": [],
   "source": [
    "# Let's start with a simple example of the scikit lib use\n",
    "\n",
    "import sys\n",
    "sys.path.append('./privatizers')\n",
    "sys.path.append('./dataProviders')\n",
    "sys.path.append('./adapters')\n",
    "\n",
    "from sklearn import tree\n",
    "from dataProviders import breastCancerDataProvider as dataProvider\n",
    "from adapters import breastCancerAdapter as adapter\n",
    "\n",
    "dp = dataProvider.BreastCancerDP()\n",
    "\n",
    "X = dp.getAllData()\n",
    "Y = dp.getAllTargets()\n"
   ]
  },
  {
   "cell_type": "code",
   "execution_count": 2,
   "metadata": {},
   "outputs": [],
   "source": [
    "## Dataset\n",
    "data_set = {\n",
    "    'samples': X,\n",
    "    'labels': Y\n",
    "}"
   ]
  },
  {
   "cell_type": "code",
   "execution_count": 3,
   "metadata": {},
   "outputs": [
    {
     "data": {
      "text/plain": [
       "[Text(317.29411764705884, 346.49999999999994, 'X[20] <= 16.795\\ngini = 0.468\\nsamples = 569\\nvalue = [212, 357]'),\n",
       " Text(211.52941176470588, 300.29999999999995, 'X[27] <= 0.136\\ngini = 0.159\\nsamples = 379\\nvalue = [33, 346]'),\n",
       " Text(124.0, 254.09999999999997, 'X[13] <= 91.555\\ngini = 0.03\\nsamples = 333\\nvalue = [5, 328]'),\n",
       " Text(109.41176470588235, 207.89999999999998, 'X[13] <= 38.605\\ngini = 0.024\\nsamples = 332\\nvalue = [4, 328]'),\n",
       " Text(58.35294117647059, 161.7, 'X[14] <= 0.003\\ngini = 0.012\\nsamples = 319\\nvalue = [2, 317]'),\n",
       " Text(29.176470588235293, 115.5, 'X[1] <= 19.9\\ngini = 0.245\\nsamples = 7\\nvalue = [1, 6]'),\n",
       " Text(14.588235294117647, 69.30000000000001, 'gini = 0.0\\nsamples = 6\\nvalue = [0, 6]'),\n",
       " Text(43.76470588235294, 69.30000000000001, 'gini = 0.0\\nsamples = 1\\nvalue = [1, 0]'),\n",
       " Text(87.52941176470588, 115.5, 'X[21] <= 33.27\\ngini = 0.006\\nsamples = 312\\nvalue = [1, 311]'),\n",
       " Text(72.94117647058823, 69.30000000000001, 'gini = 0.0\\nsamples = 292\\nvalue = [0, 292]'),\n",
       " Text(102.11764705882352, 69.30000000000001, 'X[21] <= 33.56\\ngini = 0.095\\nsamples = 20\\nvalue = [1, 19]'),\n",
       " Text(87.52941176470588, 23.100000000000023, 'gini = 0.0\\nsamples = 1\\nvalue = [1, 0]'),\n",
       " Text(116.70588235294117, 23.100000000000023, 'gini = 0.0\\nsamples = 19\\nvalue = [0, 19]'),\n",
       " Text(160.47058823529412, 161.7, 'X[26] <= 0.328\\ngini = 0.26\\nsamples = 13\\nvalue = [2, 11]'),\n",
       " Text(145.88235294117646, 115.5, 'X[18] <= 0.016\\ngini = 0.153\\nsamples = 12\\nvalue = [1, 11]'),\n",
       " Text(131.2941176470588, 69.30000000000001, 'gini = 0.0\\nsamples = 1\\nvalue = [1, 0]'),\n",
       " Text(160.47058823529412, 69.30000000000001, 'gini = 0.0\\nsamples = 11\\nvalue = [0, 11]'),\n",
       " Text(175.05882352941177, 115.5, 'gini = 0.0\\nsamples = 1\\nvalue = [1, 0]'),\n",
       " Text(138.58823529411765, 207.89999999999998, 'gini = 0.0\\nsamples = 1\\nvalue = [1, 0]'),\n",
       " Text(299.05882352941177, 254.09999999999997, 'X[21] <= 25.67\\ngini = 0.476\\nsamples = 46\\nvalue = [28, 18]'),\n",
       " Text(248.0, 207.89999999999998, 'X[23] <= 810.3\\ngini = 0.332\\nsamples = 19\\nvalue = [4, 15]'),\n",
       " Text(218.8235294117647, 161.7, 'X[24] <= 0.179\\ngini = 0.124\\nsamples = 15\\nvalue = [1, 14]'),\n",
       " Text(204.23529411764704, 115.5, 'gini = 0.0\\nsamples = 14\\nvalue = [0, 14]'),\n",
       " Text(233.41176470588235, 115.5, 'gini = 0.0\\nsamples = 1\\nvalue = [1, 0]'),\n",
       " Text(277.1764705882353, 161.7, 'X[23] <= 844.65\\ngini = 0.375\\nsamples = 4\\nvalue = [3, 1]'),\n",
       " Text(262.5882352941176, 115.5, 'gini = 0.0\\nsamples = 3\\nvalue = [3, 0]'),\n",
       " Text(291.7647058823529, 115.5, 'gini = 0.0\\nsamples = 1\\nvalue = [0, 1]'),\n",
       " Text(350.11764705882354, 207.89999999999998, 'X[6] <= 0.097\\ngini = 0.198\\nsamples = 27\\nvalue = [24, 3]'),\n",
       " Text(335.52941176470586, 161.7, 'X[1] <= 19.435\\ngini = 0.5\\nsamples = 6\\nvalue = [3, 3]'),\n",
       " Text(320.94117647058823, 115.5, 'gini = 0.0\\nsamples = 3\\nvalue = [0, 3]'),\n",
       " Text(350.11764705882354, 115.5, 'gini = 0.0\\nsamples = 3\\nvalue = [3, 0]'),\n",
       " Text(364.70588235294116, 161.7, 'gini = 0.0\\nsamples = 21\\nvalue = [21, 0]'),\n",
       " Text(423.05882352941177, 300.29999999999995, 'X[21] <= 19.91\\ngini = 0.109\\nsamples = 190\\nvalue = [179, 11]'),\n",
       " Text(393.88235294117646, 254.09999999999997, 'X[7] <= 0.071\\ngini = 0.498\\nsamples = 17\\nvalue = [8, 9]'),\n",
       " Text(379.29411764705884, 207.89999999999998, 'gini = 0.0\\nsamples = 9\\nvalue = [0, 9]'),\n",
       " Text(408.4705882352941, 207.89999999999998, 'gini = 0.0\\nsamples = 8\\nvalue = [8, 0]'),\n",
       " Text(452.2352941176471, 254.09999999999997, 'X[24] <= 0.088\\ngini = 0.023\\nsamples = 173\\nvalue = [171, 2]'),\n",
       " Text(437.6470588235294, 207.89999999999998, 'gini = 0.0\\nsamples = 1\\nvalue = [0, 1]'),\n",
       " Text(466.8235294117647, 207.89999999999998, 'X[26] <= 0.18\\ngini = 0.012\\nsamples = 172\\nvalue = [171, 1]'),\n",
       " Text(452.2352941176471, 161.7, 'X[25] <= 0.161\\ngini = 0.375\\nsamples = 4\\nvalue = [3, 1]'),\n",
       " Text(437.6470588235294, 115.5, 'gini = 0.0\\nsamples = 3\\nvalue = [3, 0]'),\n",
       " Text(466.8235294117647, 115.5, 'gini = 0.0\\nsamples = 1\\nvalue = [0, 1]'),\n",
       " Text(481.4117647058823, 161.7, 'gini = 0.0\\nsamples = 168\\nvalue = [168, 0]')]"
      ]
     },
     "execution_count": 3,
     "metadata": {},
     "output_type": "execute_result"
    }
   ],
   "source": [
    "## Decision tree without privatization\n",
    "clf = tree.DecisionTreeClassifier()\n",
    "# clf = clf.fit(data_set['samples'], data_set['labels'])\n",
    "\n",
    "tree.plot_tree(clf.fit(data_set['samples'], data_set['labels']))"
   ]
  },
  {
   "cell_type": "code",
   "execution_count": 4,
   "metadata": {},
   "outputs": [],
   "source": [
    "## Privatization: Coin privatizer\n",
    "\n",
    "# from privatizers import coinPrivatizer\n",
    "\n",
    "# private_format = []\n",
    "\n",
    "# for index, value in enumerate(data_set['samples']):\n",
    "#     single_list = []\n",
    "#     for num in value:\n",
    "#         single_list.append(False if num == 0 else True)\n",
    "#     single_list.append(False if data_set['labels'][index]==0 else True)\n",
    "#     private_format.append(single_list)\n",
    "\n",
    "# coin_privatizer = coinPrivatizer.CoinPrivatizer()\n",
    "# private_format = coin_privatizer.privatize(private_format)\n",
    "\n",
    "# private_data_set = {\n",
    "#     'samples': [],\n",
    "#     'labels': []\n",
    "# }\n",
    "\n",
    "# for value in private_format:\n",
    "#     private_data_set['labels'].append(1 if value.pop() else 0)\n",
    "#     single_list = []\n",
    "#     for v in value:\n",
    "#         single_list.append(1 if v else 0)\n",
    "#     private_data_set['samples'].append(single_list)\n",
    "\n",
    "# clf = tree.DecisionTreeClassifier()\n",
    "# clf = clf.fit(private_data_set['samples'], private_data_set['labels'])\n",
    "\n",
    "# tree.plot_tree(clf.fit(private_data_set['samples'], private_data_set['labels']))"
   ]
  },
  {
   "cell_type": "code",
   "execution_count": 5,
   "metadata": {},
   "outputs": [
    {
     "data": {
      "text/plain": [
       "[Text(200.88, 206.56799999999998, 'X[20] <= 16.816\\ngini = 0.468\\nsamples = 569\\nvalue = [212, 357]'),\n",
       " Text(144.22153846153847, 184.824, 'X[25] <= 0.392\\ngini = 0.159\\nsamples = 379\\nvalue = [33, 346]'),\n",
       " Text(108.16615384615385, 163.07999999999998, 'X[22] <= 107.448\\ngini = 0.071\\nsamples = 351\\nvalue = [13, 338]'),\n",
       " Text(87.56307692307692, 141.336, 'X[12] <= 6.581\\ngini = 0.041\\nsamples = 334\\nvalue = [7, 327]'),\n",
       " Text(77.26153846153846, 119.592, 'X[24] <= 0.271\\ngini = 0.035\\nsamples = 333\\nvalue = [6, 327]'),\n",
       " Text(66.96, 97.848, 'X[22] <= 102.024\\ngini = 0.03\\nsamples = 332\\nvalue = [5, 327]'),\n",
       " Text(41.206153846153846, 76.10399999999998, 'X[13] <= 49.002\\ngini = 0.013\\nsamples = 309\\nvalue = [2, 307]'),\n",
       " Text(20.603076923076923, 54.360000000000014, 'X[21] <= 33.357\\ngini = 0.007\\nsamples = 305\\nvalue = [1, 304]'),\n",
       " Text(10.301538461538462, 32.615999999999985, 'gini = 0.0\\nsamples = 286\\nvalue = [0, 286]'),\n",
       " Text(30.904615384615383, 32.615999999999985, 'X[21] <= 33.566\\ngini = 0.1\\nsamples = 19\\nvalue = [1, 18]'),\n",
       " Text(20.603076923076923, 10.872000000000014, 'gini = 0.0\\nsamples = 1\\nvalue = [1, 0]'),\n",
       " Text(41.206153846153846, 10.872000000000014, 'gini = 0.0\\nsamples = 18\\nvalue = [0, 18]'),\n",
       " Text(61.809230769230766, 54.360000000000014, 'X[10] <= 0.693\\ngini = 0.375\\nsamples = 4\\nvalue = [1, 3]'),\n",
       " Text(51.50769230769231, 32.615999999999985, 'gini = 0.0\\nsamples = 1\\nvalue = [1, 0]'),\n",
       " Text(72.11076923076924, 32.615999999999985, 'gini = 0.0\\nsamples = 3\\nvalue = [0, 3]'),\n",
       " Text(92.71384615384615, 76.10399999999998, 'X[17] <= -0.042\\ngini = 0.227\\nsamples = 23\\nvalue = [3, 20]'),\n",
       " Text(82.41230769230769, 54.360000000000014, 'gini = 0.0\\nsamples = 2\\nvalue = [2, 0]'),\n",
       " Text(103.01538461538462, 54.360000000000014, 'X[16] <= 0.105\\ngini = 0.091\\nsamples = 21\\nvalue = [1, 20]'),\n",
       " Text(92.71384615384615, 32.615999999999985, 'gini = 0.0\\nsamples = 20\\nvalue = [0, 20]'),\n",
       " Text(113.31692307692308, 32.615999999999985, 'gini = 0.0\\nsamples = 1\\nvalue = [1, 0]'),\n",
       " Text(87.56307692307692, 97.848, 'gini = 0.0\\nsamples = 1\\nvalue = [1, 0]'),\n",
       " Text(97.86461538461539, 119.592, 'gini = 0.0\\nsamples = 1\\nvalue = [1, 0]'),\n",
       " Text(128.76923076923077, 141.336, 'X[15] <= 0.01\\ngini = 0.457\\nsamples = 17\\nvalue = [6, 11]'),\n",
       " Text(118.4676923076923, 119.592, 'gini = 0.0\\nsamples = 4\\nvalue = [4, 0]'),\n",
       " Text(139.07076923076923, 119.592, 'X[29] <= 0.021\\ngini = 0.26\\nsamples = 13\\nvalue = [2, 11]'),\n",
       " Text(128.76923076923077, 97.848, 'gini = 0.0\\nsamples = 1\\nvalue = [1, 0]'),\n",
       " Text(149.3723076923077, 97.848, 'X[4] <= 0.113\\ngini = 0.153\\nsamples = 12\\nvalue = [1, 11]'),\n",
       " Text(139.07076923076923, 76.10399999999998, 'gini = 0.0\\nsamples = 11\\nvalue = [0, 11]'),\n",
       " Text(159.67384615384614, 76.10399999999998, 'gini = 0.0\\nsamples = 1\\nvalue = [1, 0]'),\n",
       " Text(180.27692307692308, 163.07999999999998, 'X[27] <= 0.161\\ngini = 0.408\\nsamples = 28\\nvalue = [20, 8]'),\n",
       " Text(169.97538461538463, 141.336, 'X[19] <= -0.018\\ngini = 0.397\\nsamples = 11\\nvalue = [3, 8]'),\n",
       " Text(159.67384615384614, 119.592, 'gini = 0.0\\nsamples = 3\\nvalue = [3, 0]'),\n",
       " Text(180.27692307692308, 119.592, 'gini = 0.0\\nsamples = 8\\nvalue = [0, 8]'),\n",
       " Text(190.57846153846154, 141.336, 'gini = 0.0\\nsamples = 17\\nvalue = [17, 0]'),\n",
       " Text(257.53846153846155, 184.824, 'X[1] <= 16.116\\ngini = 0.109\\nsamples = 190\\nvalue = [179, 11]'),\n",
       " Text(221.48307692307694, 163.07999999999998, 'X[15] <= 0.033\\ngini = 0.498\\nsamples = 17\\nvalue = [8, 9]'),\n",
       " Text(211.18153846153845, 141.336, 'gini = 0.0\\nsamples = 8\\nvalue = [0, 8]'),\n",
       " Text(231.7846153846154, 141.336, 'X[7] <= 0.047\\ngini = 0.198\\nsamples = 9\\nvalue = [8, 1]'),\n",
       " Text(221.48307692307694, 119.592, 'gini = 0.0\\nsamples = 1\\nvalue = [0, 1]'),\n",
       " Text(242.08615384615385, 119.592, 'gini = 0.0\\nsamples = 8\\nvalue = [8, 0]'),\n",
       " Text(293.59384615384613, 163.07999999999998, 'X[14] <= -0.094\\ngini = 0.023\\nsamples = 173\\nvalue = [171, 2]'),\n",
       " Text(272.9907692307692, 141.336, 'X[11] <= 1.088\\ngini = 0.5\\nsamples = 2\\nvalue = [1, 1]'),\n",
       " Text(262.6892307692308, 119.592, 'gini = 0.0\\nsamples = 1\\nvalue = [1, 0]'),\n",
       " Text(283.2923076923077, 119.592, 'gini = 0.0\\nsamples = 1\\nvalue = [0, 1]'),\n",
       " Text(314.1969230769231, 141.336, 'X[24] <= 0.071\\ngini = 0.012\\nsamples = 171\\nvalue = [170, 1]'),\n",
       " Text(303.8953846153846, 119.592, 'X[29] <= 0.048\\ngini = 0.32\\nsamples = 5\\nvalue = [4, 1]'),\n",
       " Text(293.59384615384613, 97.848, 'gini = 0.0\\nsamples = 1\\nvalue = [0, 1]'),\n",
       " Text(314.1969230769231, 97.848, 'gini = 0.0\\nsamples = 4\\nvalue = [4, 0]'),\n",
       " Text(324.4984615384615, 119.592, 'gini = 0.0\\nsamples = 166\\nvalue = [166, 0]')]"
      ]
     },
     "execution_count": 5,
     "metadata": {},
     "output_type": "execute_result"
    },
    {
     "data": {
      "image/png": "[encoded data removed]",
      "text/plain": [
       "<Figure size 432x288 with 1 Axes>"
      ]
     },
     "metadata": {
      "needs_background": "light"
     },
     "output_type": "display_data"
    }
   ],
   "source": [
    "## Privatization: Laplace privatizer\n",
    "from privatizers import laplacePrivatizer\n",
    "\n",
    "scale = 0.03\n",
    "privatizer = laplacePrivatizer.LaplacePrivatizer(scale)\n",
    "privateData = privatizer.privatize(adapter.fromRaw(data_set['samples']))\n",
    "\n",
    "privateTargetsFloat = privatizer.privatize(adapter.fromRaw(data_set['labels']))\n",
    "privateTargets = adapter.toBinaryInt(privateTargetsFloat)\n",
    "\n",
    "clf = tree.DecisionTreeClassifier()\n",
    "tree.plot_tree(clf.fit(privateData, privateTargets))"
   ]
  },
  {
   "cell_type": "code",
   "execution_count": 6,
   "metadata": {},
   "outputs": [
    {
     "data": {
      "text/plain": [
       "[Text(230.175, 203.85, 'X[20] <= 16.81\\ngini = 0.468\\nsamples = 569\\nvalue = [212, 357]'),\n",
       " Text(166.1318181818182, 176.67000000000002, 'X[26] <= 0.417\\ngini = 0.159\\nsamples = 379\\nvalue = [33, 346]'),\n",
       " Text(98.91818181818182, 149.49, 'X[20] <= 15.788\\ngini = 0.063\\nsamples = 338\\nvalue = [11, 327]'),\n",
       " Text(50.727272727272734, 122.31, 'X[10] <= 0.783\\ngini = 0.02\\nsamples = 301\\nvalue = [3, 298]'),\n",
       " Text(30.436363636363637, 95.13, 'X[15] <= 0.014\\ngini = 0.007\\nsamples = 298\\nvalue = [1, 297]'),\n",
       " Text(20.290909090909093, 67.94999999999999, 'X[21] <= 31.183\\ngini = 0.105\\nsamples = 18\\nvalue = [1, 17]'),\n",
       " Text(10.145454545454546, 40.77000000000001, 'gini = 0.0\\nsamples = 17\\nvalue = [0, 17]'),\n",
       " Text(30.436363636363637, 40.77000000000001, 'gini = 0.0\\nsamples = 1\\nvalue = [1, 0]'),\n",
       " Text(40.581818181818186, 67.94999999999999, 'gini = 0.0\\nsamples = 280\\nvalue = [0, 280]'),\n",
       " Text(71.01818181818183, 95.13, 'X[2] <= 95.818\\ngini = 0.444\\nsamples = 3\\nvalue = [2, 1]'),\n",
       " Text(60.872727272727275, 67.94999999999999, 'gini = 0.0\\nsamples = 2\\nvalue = [2, 0]'),\n",
       " Text(81.16363636363637, 67.94999999999999, 'gini = 0.0\\nsamples = 1\\nvalue = [0, 1]'),\n",
       " Text(147.10909090909092, 122.31, 'X[29] <= 0.12\\ngini = 0.339\\nsamples = 37\\nvalue = [8, 29]'),\n",
       " Text(121.74545454545455, 95.13, 'X[11] <= 1.644\\ngini = 0.175\\nsamples = 31\\nvalue = [3, 28]'),\n",
       " Text(101.45454545454547, 67.94999999999999, 'X[15] <= 0.076\\ngini = 0.069\\nsamples = 28\\nvalue = [1, 27]'),\n",
       " Text(91.30909090909091, 40.77000000000001, 'gini = 0.0\\nsamples = 26\\nvalue = [0, 26]'),\n",
       " Text(111.60000000000001, 40.77000000000001, 'X[19] <= 0.074\\ngini = 0.5\\nsamples = 2\\nvalue = [1, 1]'),\n",
       " Text(101.45454545454547, 13.590000000000003, 'gini = 0.0\\nsamples = 1\\nvalue = [1, 0]'),\n",
       " Text(121.74545454545455, 13.590000000000003, 'gini = 0.0\\nsamples = 1\\nvalue = [0, 1]'),\n",
       " Text(142.03636363636366, 67.94999999999999, 'X[21] <= 28.183\\ngini = 0.444\\nsamples = 3\\nvalue = [2, 1]'),\n",
       " Text(131.8909090909091, 40.77000000000001, 'gini = 0.0\\nsamples = 1\\nvalue = [0, 1]'),\n",
       " Text(152.1818181818182, 40.77000000000001, 'gini = 0.0\\nsamples = 2\\nvalue = [2, 0]'),\n",
       " Text(172.4727272727273, 95.13, 'X[5] <= 0.093\\ngini = 0.278\\nsamples = 6\\nvalue = [5, 1]'),\n",
       " Text(162.32727272727274, 67.94999999999999, 'gini = 0.0\\nsamples = 1\\nvalue = [0, 1]'),\n",
       " Text(182.61818181818182, 67.94999999999999, 'gini = 0.0\\nsamples = 5\\nvalue = [5, 0]'),\n",
       " Text(233.34545454545457, 149.49, 'X[27] <= 0.199\\ngini = 0.497\\nsamples = 41\\nvalue = [22, 19]'),\n",
       " Text(223.20000000000002, 122.31, 'X[21] <= 32.336\\ngini = 0.417\\nsamples = 27\\nvalue = [8, 19]'),\n",
       " Text(213.05454545454546, 95.13, 'X[7] <= 0.112\\ngini = 0.236\\nsamples = 22\\nvalue = [3, 19]'),\n",
       " Text(202.90909090909093, 67.94999999999999, 'X[2] <= 99.137\\ngini = 0.095\\nsamples = 20\\nvalue = [1, 19]'),\n",
       " Text(192.76363636363638, 40.77000000000001, 'gini = 0.0\\nsamples = 19\\nvalue = [0, 19]'),\n",
       " Text(213.05454545454546, 40.77000000000001, 'gini = 0.0\\nsamples = 1\\nvalue = [1, 0]'),\n",
       " Text(223.20000000000002, 67.94999999999999, 'gini = 0.0\\nsamples = 2\\nvalue = [2, 0]'),\n",
       " Text(233.34545454545457, 95.13, 'gini = 0.0\\nsamples = 5\\nvalue = [5, 0]'),\n",
       " Text(243.4909090909091, 122.31, 'gini = 0.0\\nsamples = 14\\nvalue = [14, 0]'),\n",
       " Text(294.21818181818185, 176.67000000000002, 'X[11] <= 0.496\\ngini = 0.109\\nsamples = 190\\nvalue = [179, 11]'),\n",
       " Text(273.92727272727274, 149.49, 'X[7] <= 0.107\\ngini = 0.245\\nsamples = 7\\nvalue = [1, 6]'),\n",
       " Text(263.7818181818182, 122.31, 'gini = 0.0\\nsamples = 6\\nvalue = [0, 6]'),\n",
       " Text(284.0727272727273, 122.31, 'gini = 0.0\\nsamples = 1\\nvalue = [1, 0]'),\n",
       " Text(314.50909090909096, 149.49, 'X[26] <= 0.243\\ngini = 0.053\\nsamples = 183\\nvalue = [178, 5]'),\n",
       " Text(304.3636363636364, 122.31, 'X[28] <= 0.296\\ngini = 0.486\\nsamples = 12\\nvalue = [7, 5]'),\n",
       " Text(294.21818181818185, 95.13, 'X[2] <= 120.46\\ngini = 0.278\\nsamples = 6\\nvalue = [1, 5]'),\n",
       " Text(284.0727272727273, 67.94999999999999, 'gini = 0.0\\nsamples = 5\\nvalue = [0, 5]'),\n",
       " Text(304.3636363636364, 67.94999999999999, 'gini = 0.0\\nsamples = 1\\nvalue = [1, 0]'),\n",
       " Text(314.50909090909096, 95.13, 'gini = 0.0\\nsamples = 6\\nvalue = [6, 0]'),\n",
       " Text(324.6545454545455, 122.31, 'gini = 0.0\\nsamples = 171\\nvalue = [171, 0]')]"
      ]
     },
     "execution_count": 6,
     "metadata": {},
     "output_type": "execute_result"
    },
    {
     "data": {
      "image/png": "[encoded data removed]",
      "text/plain": [
       "<Figure size 432x288 with 1 Axes>"
      ]
     },
     "metadata": {
      "needs_background": "light"
     },
     "output_type": "display_data"
    }
   ],
   "source": [
    "## Privatization: Exponential privatizer\n",
    "from privatizers import exponentialPrivatizer\n",
    "\n",
    "scale = 0.03\n",
    "privatizer = exponentialPrivatizer.ExponentialPrivatizer(scale)\n",
    "privateData = privatizer.privatize(adapter.fromRaw(data_set['samples']))\n",
    "\n",
    "privateTargetsFloat = privatizer.privatize(adapter.fromRaw(data_set['labels']))\n",
    "privateTargets = adapter.toBinaryInt(privateTargetsFloat)\n",
    "\n",
    "clf = tree.DecisionTreeClassifier()\n",
    "\n",
    "tree.plot_tree(clf.fit(privateData, privateTargets))"
   ]
  },
  {
   "cell_type": "code",
   "execution_count": null,
   "metadata": {},
   "outputs": [],
   "source": []
  }
 ],
 "metadata": {
  "kernelspec": {
   "display_name": "Python 3",
   "language": "python",
   "name": "python3"
  },
  "language_info": {
   "codemirror_mode": {
    "name": "ipython",
    "version": 3
   },
   "file_extension": ".py",
   "mimetype": "text/x-python",
   "name": "python",
   "nbconvert_exporter": "python",
   "pygments_lexer": "ipython3",
   "version": "3.7.1"
  }
 },
 "nbformat": 4,
 "nbformat_minor": 2
}
