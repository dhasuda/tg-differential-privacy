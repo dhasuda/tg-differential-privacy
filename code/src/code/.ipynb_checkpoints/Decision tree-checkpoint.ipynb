{
 "cells": [
  {
   "cell_type": "code",
   "execution_count": 1,
   "metadata": {},
   "outputs": [],
   "source": [
    "# Let's start with a simple example of the scikit lib use\n",
    "\n",
    "import sys\n",
    "sys.path.append('./privatizers')\n",
    "sys.path.append('./dataProviders')\n",
    "sys.path.append('./adapters')\n",
    "\n",
    "from sklearn import tree\n",
    "from dataProviders import breastCancerDataProvider as dataProvider\n",
    "from adapters import breastCancerAdapter as adapter\n",
    "\n",
    "dp = dataProvider.BreastCancerDP()\n",
    "\n",
    "X = dp.getAllData()\n",
    "Y = dp.getAllTargets()\n"
   ]
  },
  {
   "cell_type": "code",
   "execution_count": 2,
   "metadata": {},
   "outputs": [],
   "source": [
    "## Dataset\n",
    "data_set = {\n",
    "    'samples': X,\n",
    "    'labels': Y\n",
    "}"
   ]
  },
  {
   "cell_type": "code",
   "execution_count": 7,
   "metadata": {},
   "outputs": [
    {
     "data": {
      "text/plain": [
       "[Text(209.25, 203.85, 'X[20] <= 16.795\\ngini = 0.468\\nsamples = 569\\nvalue = [212, 357]'),\n",
       " Text(136.01250000000002, 176.67000000000002, 'X[27] <= 0.136\\ngini = 0.159\\nsamples = 379\\nvalue = [33, 346]'),\n",
       " Text(78.46875, 149.49, 'X[13] <= 91.555\\ngini = 0.03\\nsamples = 333\\nvalue = [5, 328]'),\n",
       " Text(68.00625000000001, 122.31, 'X[13] <= 38.605\\ngini = 0.024\\nsamples = 332\\nvalue = [4, 328]'),\n",
       " Text(41.85, 95.13, 'X[14] <= 0.003\\ngini = 0.012\\nsamples = 319\\nvalue = [2, 317]'),\n",
       " Text(20.925, 67.94999999999999, 'X[14] <= 0.003\\ngini = 0.245\\nsamples = 7\\nvalue = [1, 6]'),\n",
       " Text(10.4625, 40.77000000000001, 'gini = 0.0\\nsamples = 6\\nvalue = [0, 6]'),\n",
       " Text(31.387500000000003, 40.77000000000001, 'gini = 0.0\\nsamples = 1\\nvalue = [1, 0]'),\n",
       " Text(62.775000000000006, 67.94999999999999, 'X[21] <= 33.27\\ngini = 0.006\\nsamples = 312\\nvalue = [1, 311]'),\n",
       " Text(52.3125, 40.77000000000001, 'gini = 0.0\\nsamples = 292\\nvalue = [0, 292]'),\n",
       " Text(73.2375, 40.77000000000001, 'X[21] <= 33.56\\ngini = 0.095\\nsamples = 20\\nvalue = [1, 19]'),\n",
       " Text(62.775000000000006, 13.590000000000003, 'gini = 0.0\\nsamples = 1\\nvalue = [1, 0]'),\n",
       " Text(83.7, 13.590000000000003, 'gini = 0.0\\nsamples = 19\\nvalue = [0, 19]'),\n",
       " Text(94.16250000000001, 95.13, 'X[5] <= 0.06\\ngini = 0.26\\nsamples = 13\\nvalue = [2, 11]'),\n",
       " Text(83.7, 67.94999999999999, 'gini = 0.0\\nsamples = 1\\nvalue = [1, 0]'),\n",
       " Text(104.625, 67.94999999999999, 'X[27] <= 0.117\\ngini = 0.153\\nsamples = 12\\nvalue = [1, 11]'),\n",
       " Text(94.16250000000001, 40.77000000000001, 'gini = 0.0\\nsamples = 11\\nvalue = [0, 11]'),\n",
       " Text(115.0875, 40.77000000000001, 'gini = 0.0\\nsamples = 1\\nvalue = [1, 0]'),\n",
       " Text(88.93125, 122.31, 'gini = 0.0\\nsamples = 1\\nvalue = [1, 0]'),\n",
       " Text(193.55625, 149.49, 'X[21] <= 25.67\\ngini = 0.476\\nsamples = 46\\nvalue = [28, 18]'),\n",
       " Text(156.9375, 122.31, 'X[23] <= 810.3\\ngini = 0.332\\nsamples = 19\\nvalue = [4, 15]'),\n",
       " Text(136.01250000000002, 95.13, 'X[4] <= 0.123\\ngini = 0.124\\nsamples = 15\\nvalue = [1, 14]'),\n",
       " Text(125.55000000000001, 67.94999999999999, 'gini = 0.0\\nsamples = 14\\nvalue = [0, 14]'),\n",
       " Text(146.475, 67.94999999999999, 'gini = 0.0\\nsamples = 1\\nvalue = [1, 0]'),\n",
       " Text(177.8625, 95.13, 'X[4] <= 0.099\\ngini = 0.375\\nsamples = 4\\nvalue = [3, 1]'),\n",
       " Text(167.4, 67.94999999999999, 'gini = 0.0\\nsamples = 1\\nvalue = [0, 1]'),\n",
       " Text(188.32500000000002, 67.94999999999999, 'gini = 0.0\\nsamples = 3\\nvalue = [3, 0]'),\n",
       " Text(230.175, 122.31, 'X[7] <= 0.054\\ngini = 0.198\\nsamples = 27\\nvalue = [24, 3]'),\n",
       " Text(219.7125, 95.13, 'X[1] <= 20.455\\ngini = 0.5\\nsamples = 6\\nvalue = [3, 3]'),\n",
       " Text(209.25, 67.94999999999999, 'gini = 0.0\\nsamples = 3\\nvalue = [0, 3]'),\n",
       " Text(230.175, 67.94999999999999, 'gini = 0.0\\nsamples = 3\\nvalue = [3, 0]'),\n",
       " Text(240.63750000000002, 95.13, 'gini = 0.0\\nsamples = 21\\nvalue = [21, 0]'),\n",
       " Text(282.4875, 176.67000000000002, 'X[21] <= 19.91\\ngini = 0.109\\nsamples = 190\\nvalue = [179, 11]'),\n",
       " Text(261.5625, 149.49, 'X[15] <= 0.021\\ngini = 0.498\\nsamples = 17\\nvalue = [8, 9]'),\n",
       " Text(251.10000000000002, 122.31, 'gini = 0.0\\nsamples = 9\\nvalue = [0, 9]'),\n",
       " Text(272.02500000000003, 122.31, 'gini = 0.0\\nsamples = 8\\nvalue = [8, 0]'),\n",
       " Text(303.4125, 149.49, 'X[24] <= 0.088\\ngini = 0.023\\nsamples = 173\\nvalue = [171, 2]'),\n",
       " Text(292.95, 122.31, 'gini = 0.0\\nsamples = 1\\nvalue = [0, 1]'),\n",
       " Text(313.875, 122.31, 'X[26] <= 0.18\\ngini = 0.012\\nsamples = 172\\nvalue = [171, 1]'),\n",
       " Text(303.4125, 95.13, 'X[21] <= 28.46\\ngini = 0.375\\nsamples = 4\\nvalue = [3, 1]'),\n",
       " Text(292.95, 67.94999999999999, 'gini = 0.0\\nsamples = 1\\nvalue = [0, 1]'),\n",
       " Text(313.875, 67.94999999999999, 'gini = 0.0\\nsamples = 3\\nvalue = [3, 0]'),\n",
       " Text(324.33750000000003, 95.13, 'gini = 0.0\\nsamples = 168\\nvalue = [168, 0]')]"
      ]
     },
     "execution_count": 7,
     "metadata": {},
     "output_type": "execute_result"
    },
    {
     "data": {
      "image/png": "[encoded data removed]",
      "text/plain": [
       "<Figure size 432x288 with 1 Axes>"
      ]
     },
     "metadata": {
      "needs_background": "light"
     },
     "output_type": "display_data"
    }
   ],
   "source": [
    "## Decision tree without privatization\n",
    "clf = tree.DecisionTreeClassifier()\n",
    "# clf = clf.fit(data_set['samples'], data_set['labels'])\n",
    "\n",
    "tree.plot_tree(clf.fit(data_set['samples'], data_set['labels']))"
   ]
  },
  {
   "cell_type": "code",
   "execution_count": 4,
   "metadata": {},
   "outputs": [],
   "source": [
    "## Privatization: Coin privatizer\n",
    "\n",
    "# from privatizers import coinPrivatizer\n",
    "\n",
    "# private_format = []\n",
    "\n",
    "# for index, value in enumerate(data_set['samples']):\n",
    "#     single_list = []\n",
    "#     for num in value:\n",
    "#         single_list.append(False if num == 0 else True)\n",
    "#     single_list.append(False if data_set['labels'][index]==0 else True)\n",
    "#     private_format.append(single_list)\n",
    "\n",
    "# coin_privatizer = coinPrivatizer.CoinPrivatizer()\n",
    "# private_format = coin_privatizer.privatize(private_format)\n",
    "\n",
    "# private_data_set = {\n",
    "#     'samples': [],\n",
    "#     'labels': []\n",
    "# }\n",
    "\n",
    "# for value in private_format:\n",
    "#     private_data_set['labels'].append(1 if value.pop() else 0)\n",
    "#     single_list = []\n",
    "#     for v in value:\n",
    "#         single_list.append(1 if v else 0)\n",
    "#     private_data_set['samples'].append(single_list)\n",
    "\n",
    "# clf = tree.DecisionTreeClassifier()\n",
    "# clf = clf.fit(private_data_set['samples'], private_data_set['labels'])\n",
    "\n",
    "# tree.plot_tree(clf.fit(private_data_set['samples'], private_data_set['labels']))"
   ]
  },
  {
   "cell_type": "code",
   "execution_count": 12,
   "metadata": {},
   "outputs": [
    {
     "data": {
      "text/plain": [
       "[Text(196.7684210526316, 203.85, 'X[22] <= 106.01\\ngini = 0.468\\nsamples = 569\\nvalue = [212, 357]'),\n",
       " Text(123.34736842105264, 176.67000000000002, 'X[26] <= 0.374\\ngini = 0.093\\nsamples = 346\\nvalue = [17, 329]'),\n",
       " Text(99.85263157894738, 149.49, 'X[13] <= 91.534\\ngini = 0.031\\nsamples = 318\\nvalue = [5, 313]'),\n",
       " Text(88.10526315789474, 122.31, 'X[13] <= 48.929\\ngini = 0.025\\nsamples = 317\\nvalue = [4, 313]'),\n",
       " Text(58.736842105263165, 95.13, 'X[20] <= 15.675\\ngini = 0.019\\nsamples = 314\\nvalue = [3, 311]'),\n",
       " Text(35.242105263157896, 67.94999999999999, 'X[6] <= -0.03\\ngini = 0.007\\nsamples = 296\\nvalue = [1, 295]'),\n",
       " Text(23.494736842105265, 40.77000000000001, 'X[14] <= 0.034\\ngini = 0.095\\nsamples = 20\\nvalue = [1, 19]'),\n",
       " Text(11.747368421052633, 13.590000000000003, 'gini = 0.0\\nsamples = 19\\nvalue = [0, 19]'),\n",
       " Text(35.242105263157896, 13.590000000000003, 'gini = 0.0\\nsamples = 1\\nvalue = [1, 0]'),\n",
       " Text(46.98947368421053, 40.77000000000001, 'gini = 0.0\\nsamples = 276\\nvalue = [0, 276]'),\n",
       " Text(82.23157894736843, 67.94999999999999, 'X[21] <= 29.688\\ngini = 0.198\\nsamples = 18\\nvalue = [2, 16]'),\n",
       " Text(70.48421052631579, 40.77000000000001, 'gini = 0.0\\nsamples = 16\\nvalue = [0, 16]'),\n",
       " Text(93.97894736842106, 40.77000000000001, 'gini = 0.0\\nsamples = 2\\nvalue = [2, 0]'),\n",
       " Text(117.47368421052633, 95.13, 'X[28] <= 0.205\\ngini = 0.444\\nsamples = 3\\nvalue = [1, 2]'),\n",
       " Text(105.72631578947369, 67.94999999999999, 'gini = 0.0\\nsamples = 1\\nvalue = [1, 0]'),\n",
       " Text(129.22105263157897, 67.94999999999999, 'gini = 0.0\\nsamples = 2\\nvalue = [0, 2]'),\n",
       " Text(111.60000000000001, 122.31, 'gini = 0.0\\nsamples = 1\\nvalue = [1, 0]'),\n",
       " Text(146.84210526315792, 149.49, 'X[21] <= 23.543\\ngini = 0.49\\nsamples = 28\\nvalue = [12, 16]'),\n",
       " Text(135.09473684210528, 122.31, 'gini = 0.0\\nsamples = 12\\nvalue = [0, 12]'),\n",
       " Text(158.58947368421053, 122.31, 'X[4] <= 0.066\\ngini = 0.375\\nsamples = 16\\nvalue = [12, 4]'),\n",
       " Text(146.84210526315792, 95.13, 'gini = 0.0\\nsamples = 3\\nvalue = [0, 3]'),\n",
       " Text(170.33684210526317, 95.13, 'X[4] <= 0.169\\ngini = 0.142\\nsamples = 13\\nvalue = [12, 1]'),\n",
       " Text(158.58947368421053, 67.94999999999999, 'gini = 0.0\\nsamples = 12\\nvalue = [12, 0]'),\n",
       " Text(182.08421052631581, 67.94999999999999, 'gini = 0.0\\nsamples = 1\\nvalue = [0, 1]'),\n",
       " Text(270.18947368421055, 176.67000000000002, 'X[22] <= 117.436\\ngini = 0.22\\nsamples = 223\\nvalue = [195, 28]'),\n",
       " Text(229.07368421052632, 149.49, 'X[21] <= 20.639\\ngini = 0.497\\nsamples = 56\\nvalue = [30, 26]'),\n",
       " Text(217.3263157894737, 122.31, 'gini = 0.0\\nsamples = 15\\nvalue = [0, 15]'),\n",
       " Text(240.82105263157897, 122.31, 'X[28] <= 0.288\\ngini = 0.393\\nsamples = 41\\nvalue = [30, 11]'),\n",
       " Text(217.3263157894737, 95.13, 'X[5] <= 0.114\\ngini = 0.484\\nsamples = 17\\nvalue = [7, 10]'),\n",
       " Text(205.57894736842107, 67.94999999999999, 'X[5] <= 0.045\\ngini = 0.42\\nsamples = 10\\nvalue = [7, 3]'),\n",
       " Text(193.83157894736843, 40.77000000000001, 'gini = 0.0\\nsamples = 3\\nvalue = [0, 3]'),\n",
       " Text(217.3263157894737, 40.77000000000001, 'gini = 0.0\\nsamples = 7\\nvalue = [7, 0]'),\n",
       " Text(229.07368421052632, 67.94999999999999, 'gini = 0.0\\nsamples = 7\\nvalue = [0, 7]'),\n",
       " Text(264.3157894736842, 95.13, 'X[14] <= 0.122\\ngini = 0.08\\nsamples = 24\\nvalue = [23, 1]'),\n",
       " Text(252.5684210526316, 67.94999999999999, 'gini = 0.0\\nsamples = 23\\nvalue = [23, 0]'),\n",
       " Text(276.0631578947369, 67.94999999999999, 'gini = 0.0\\nsamples = 1\\nvalue = [0, 1]'),\n",
       " Text(311.3052631578948, 149.49, 'X[26] <= 0.15\\ngini = 0.024\\nsamples = 167\\nvalue = [165, 2]'),\n",
       " Text(299.5578947368421, 122.31, 'X[16] <= -0.003\\ngini = 0.5\\nsamples = 4\\nvalue = [2, 2]'),\n",
       " Text(287.8105263157895, 95.13, 'gini = 0.0\\nsamples = 2\\nvalue = [0, 2]'),\n",
       " Text(311.3052631578948, 95.13, 'gini = 0.0\\nsamples = 2\\nvalue = [2, 0]'),\n",
       " Text(323.0526315789474, 122.31, 'gini = 0.0\\nsamples = 163\\nvalue = [163, 0]')]"
      ]
     },
     "execution_count": 12,
     "metadata": {},
     "output_type": "execute_result"
    },
    {
     "data": {
      "image/png": "[encoded data removed]",
      "text/plain": [
       "<Figure size 432x288 with 1 Axes>"
      ]
     },
     "metadata": {
      "needs_background": "light"
     },
     "output_type": "display_data"
    }
   ],
   "source": [
    "## Privatization: Laplace privatizer\n",
    "from privatizers import laplacePrivatizer\n",
    "\n",
    "scale = 0.03\n",
    "privatizer = laplacePrivatizer.LaplacePrivatizer(scale)\n",
    "privateData = privatizer.privatize(adapter.fromRaw(data_set['samples']))\n",
    "\n",
    "privateTargetsFloat = privatizer.privatize(adapter.fromRaw(data_set['labels']))\n",
    "privateTargets = adapter.toBinaryInt(privateTargetsFloat)\n",
    "\n",
    "clf = tree.DecisionTreeClassifier()\n",
    "tree.plot_tree(clf.fit(privateData, privateTargets))"
   ]
  },
  {
   "cell_type": "code",
   "execution_count": null,
   "metadata": {},
   "outputs": [],
   "source": [
    "## Privatization: Exponential privatizer\n",
    "from privatizers import exponentialPrivatizer\n",
    "\n",
    "scale = 0.03\n",
    "privatizer = exponentialPrivatizer.ExponentialPrivatizer(scale)\n",
    "privateData = privatizer.privatize(adapter.fromRaw(data_set['samples']))\n",
    "\n",
    "privateTargetsFloat = privatizer.privatize(adapter.fromRaw(data_set['labels']))\n",
    "privateTargets = adapter.toBinaryInt(privateTargetsFloat)\n",
    "\n",
    "clf = tree.DecisionTreeClassifier()\n",
    "\n",
    "tree.plot_tree(clf.fit(privateData, privateTargets))"
   ]
  },
  {
   "cell_type": "code",
   "execution_count": null,
   "metadata": {},
   "outputs": [],
   "source": []
  }
 ],
 "metadata": {
  "kernelspec": {
   "display_name": "Python 3",
   "language": "python",
   "name": "python3"
  },
  "language_info": {
   "codemirror_mode": {
    "name": "ipython",
    "version": 3
   },
   "file_extension": ".py",
   "mimetype": "text/x-python",
   "name": "python",
   "nbconvert_exporter": "python",
   "pygments_lexer": "ipython3",
   "version": "3.7.1"
  }
 },
 "nbformat": 4,
 "nbformat_minor": 2
}
