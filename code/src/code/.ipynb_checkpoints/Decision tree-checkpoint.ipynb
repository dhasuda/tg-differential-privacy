{
 "cells": [
  {
   "cell_type": "code",
   "execution_count": 1,
   "metadata": {},
   "outputs": [],
   "source": [
    "# Let's start with a simple example of the scikit lib use\n",
    "\n",
    "import sys\n",
    "sys.path.append('./privatizers')\n",
    "sys.path.append('./dataProviders')\n",
    "sys.path.append('./adapters')\n",
    "\n",
    "from sklearn import tree\n",
    "from dataProviders import breastCancerDataProvider as dataProvider\n",
    "from adapters import breastCancerAdapter as adapter\n",
    "\n",
    "dp = dataProvider.BreastCancerDP()\n",
    "\n",
    "X = dp.getAllData()\n",
    "Y = dp.getAllTargets()\n"
   ]
  },
  {
   "cell_type": "code",
   "execution_count": 2,
   "metadata": {},
   "outputs": [],
   "source": [
    "## Dataset\n",
    "data_set = {\n",
    "    'samples': X,\n",
    "    'labels': Y\n",
    "}"
   ]
  },
  {
   "cell_type": "code",
   "execution_count": 7,
   "metadata": {},
   "outputs": [
    {
     "data": {
      "text/plain": [
       "[Text(209.25, 203.85, 'X[20] <= 16.795\\ngini = 0.468\\nsamples = 569\\nvalue = [212, 357]'),\n",
       " Text(136.01250000000002, 176.67000000000002, 'X[27] <= 0.136\\ngini = 0.159\\nsamples = 379\\nvalue = [33, 346]'),\n",
       " Text(78.46875, 149.49, 'X[13] <= 91.555\\ngini = 0.03\\nsamples = 333\\nvalue = [5, 328]'),\n",
       " Text(68.00625000000001, 122.31, 'X[13] <= 38.605\\ngini = 0.024\\nsamples = 332\\nvalue = [4, 328]'),\n",
       " Text(41.85, 95.13, 'X[14] <= 0.003\\ngini = 0.012\\nsamples = 319\\nvalue = [2, 317]'),\n",
       " Text(20.925, 67.94999999999999, 'X[14] <= 0.003\\ngini = 0.245\\nsamples = 7\\nvalue = [1, 6]'),\n",
       " Text(10.4625, 40.77000000000001, 'gini = 0.0\\nsamples = 6\\nvalue = [0, 6]'),\n",
       " Text(31.387500000000003, 40.77000000000001, 'gini = 0.0\\nsamples = 1\\nvalue = [1, 0]'),\n",
       " Text(62.775000000000006, 67.94999999999999, 'X[21] <= 33.27\\ngini = 0.006\\nsamples = 312\\nvalue = [1, 311]'),\n",
       " Text(52.3125, 40.77000000000001, 'gini = 0.0\\nsamples = 292\\nvalue = [0, 292]'),\n",
       " Text(73.2375, 40.77000000000001, 'X[21] <= 33.56\\ngini = 0.095\\nsamples = 20\\nvalue = [1, 19]'),\n",
       " Text(62.775000000000006, 13.590000000000003, 'gini = 0.0\\nsamples = 1\\nvalue = [1, 0]'),\n",
       " Text(83.7, 13.590000000000003, 'gini = 0.0\\nsamples = 19\\nvalue = [0, 19]'),\n",
       " Text(94.16250000000001, 95.13, 'X[5] <= 0.06\\ngini = 0.26\\nsamples = 13\\nvalue = [2, 11]'),\n",
       " Text(83.7, 67.94999999999999, 'gini = 0.0\\nsamples = 1\\nvalue = [1, 0]'),\n",
       " Text(104.625, 67.94999999999999, 'X[27] <= 0.117\\ngini = 0.153\\nsamples = 12\\nvalue = [1, 11]'),\n",
       " Text(94.16250000000001, 40.77000000000001, 'gini = 0.0\\nsamples = 11\\nvalue = [0, 11]'),\n",
       " Text(115.0875, 40.77000000000001, 'gini = 0.0\\nsamples = 1\\nvalue = [1, 0]'),\n",
       " Text(88.93125, 122.31, 'gini = 0.0\\nsamples = 1\\nvalue = [1, 0]'),\n",
       " Text(193.55625, 149.49, 'X[21] <= 25.67\\ngini = 0.476\\nsamples = 46\\nvalue = [28, 18]'),\n",
       " Text(156.9375, 122.31, 'X[23] <= 810.3\\ngini = 0.332\\nsamples = 19\\nvalue = [4, 15]'),\n",
       " Text(136.01250000000002, 95.13, 'X[4] <= 0.123\\ngini = 0.124\\nsamples = 15\\nvalue = [1, 14]'),\n",
       " Text(125.55000000000001, 67.94999999999999, 'gini = 0.0\\nsamples = 14\\nvalue = [0, 14]'),\n",
       " Text(146.475, 67.94999999999999, 'gini = 0.0\\nsamples = 1\\nvalue = [1, 0]'),\n",
       " Text(177.8625, 95.13, 'X[4] <= 0.099\\ngini = 0.375\\nsamples = 4\\nvalue = [3, 1]'),\n",
       " Text(167.4, 67.94999999999999, 'gini = 0.0\\nsamples = 1\\nvalue = [0, 1]'),\n",
       " Text(188.32500000000002, 67.94999999999999, 'gini = 0.0\\nsamples = 3\\nvalue = [3, 0]'),\n",
       " Text(230.175, 122.31, 'X[7] <= 0.054\\ngini = 0.198\\nsamples = 27\\nvalue = [24, 3]'),\n",
       " Text(219.7125, 95.13, 'X[1] <= 20.455\\ngini = 0.5\\nsamples = 6\\nvalue = [3, 3]'),\n",
       " Text(209.25, 67.94999999999999, 'gini = 0.0\\nsamples = 3\\nvalue = [0, 3]'),\n",
       " Text(230.175, 67.94999999999999, 'gini = 0.0\\nsamples = 3\\nvalue = [3, 0]'),\n",
       " Text(240.63750000000002, 95.13, 'gini = 0.0\\nsamples = 21\\nvalue = [21, 0]'),\n",
       " Text(282.4875, 176.67000000000002, 'X[21] <= 19.91\\ngini = 0.109\\nsamples = 190\\nvalue = [179, 11]'),\n",
       " Text(261.5625, 149.49, 'X[15] <= 0.021\\ngini = 0.498\\nsamples = 17\\nvalue = [8, 9]'),\n",
       " Text(251.10000000000002, 122.31, 'gini = 0.0\\nsamples = 9\\nvalue = [0, 9]'),\n",
       " Text(272.02500000000003, 122.31, 'gini = 0.0\\nsamples = 8\\nvalue = [8, 0]'),\n",
       " Text(303.4125, 149.49, 'X[24] <= 0.088\\ngini = 0.023\\nsamples = 173\\nvalue = [171, 2]'),\n",
       " Text(292.95, 122.31, 'gini = 0.0\\nsamples = 1\\nvalue = [0, 1]'),\n",
       " Text(313.875, 122.31, 'X[26] <= 0.18\\ngini = 0.012\\nsamples = 172\\nvalue = [171, 1]'),\n",
       " Text(303.4125, 95.13, 'X[21] <= 28.46\\ngini = 0.375\\nsamples = 4\\nvalue = [3, 1]'),\n",
       " Text(292.95, 67.94999999999999, 'gini = 0.0\\nsamples = 1\\nvalue = [0, 1]'),\n",
       " Text(313.875, 67.94999999999999, 'gini = 0.0\\nsamples = 3\\nvalue = [3, 0]'),\n",
       " Text(324.33750000000003, 95.13, 'gini = 0.0\\nsamples = 168\\nvalue = [168, 0]')]"
      ]
     },
     "execution_count": 7,
     "metadata": {},
     "output_type": "execute_result"
    },
    {
     "data": {
      "image/png": "[encoded data removed]",
      "text/plain": [
       "<Figure size 432x288 with 1 Axes>"
      ]
     },
     "metadata": {
      "needs_background": "light"
     },
     "output_type": "display_data"
    }
   ],
   "source": [
    "## Decision tree without privatization\n",
    "clf = tree.DecisionTreeClassifier()\n",
    "# clf = clf.fit(data_set['samples'], data_set['labels'])\n",
    "\n",
    "tree.plot_tree(clf.fit(data_set['samples'], data_set['labels']))"
   ]
  },
  {
   "cell_type": "code",
   "execution_count": 4,
   "metadata": {},
   "outputs": [],
   "source": [
    "## Privatization: Coin privatizer\n",
    "\n",
    "# from privatizers import coinPrivatizer\n",
    "\n",
    "# private_format = []\n",
    "\n",
    "# for index, value in enumerate(data_set['samples']):\n",
    "#     single_list = []\n",
    "#     for num in value:\n",
    "#         single_list.append(False if num == 0 else True)\n",
    "#     single_list.append(False if data_set['labels'][index]==0 else True)\n",
    "#     private_format.append(single_list)\n",
    "\n",
    "# coin_privatizer = coinPrivatizer.CoinPrivatizer()\n",
    "# private_format = coin_privatizer.privatize(private_format)\n",
    "\n",
    "# private_data_set = {\n",
    "#     'samples': [],\n",
    "#     'labels': []\n",
    "# }\n",
    "\n",
    "# for value in private_format:\n",
    "#     private_data_set['labels'].append(1 if value.pop() else 0)\n",
    "#     single_list = []\n",
    "#     for v in value:\n",
    "#         single_list.append(1 if v else 0)\n",
    "#     private_data_set['samples'].append(single_list)\n",
    "\n",
    "# clf = tree.DecisionTreeClassifier()\n",
    "# clf = clf.fit(private_data_set['samples'], private_data_set['labels'])\n",
    "\n",
    "# tree.plot_tree(clf.fit(private_data_set['samples'], private_data_set['labels']))"
   ]
  },
  {
   "cell_type": "code",
   "execution_count": 11,
   "metadata": {},
   "outputs": [
    {
     "data": {
      "text/plain": [
       "[Text(197.67446808510638, 205.35999999999999, 'X[20] <= 16.785\\ngini = 0.468\\nsamples = 569\\nvalue = [212, 357]'),\n",
       " Text(117.53617021276595, 181.2, 'X[26] <= 0.37\\ngini = 0.159\\nsamples = 379\\nvalue = [33, 346]'),\n",
       " Text(64.11063829787234, 157.04, 'X[9] <= -0.034\\ngini = 0.057\\nsamples = 338\\nvalue = [10, 328]'),\n",
       " Text(49.86382978723404, 132.88, 'gini = 0.0\\nsamples = 2\\nvalue = [2, 0]'),\n",
       " Text(78.35744680851063, 132.88, 'X[3] <= 719.983\\ngini = 0.046\\nsamples = 336\\nvalue = [8, 328]'),\n",
       " Text(64.11063829787234, 108.72, 'X[15] <= -0.121\\ngini = 0.041\\nsamples = 335\\nvalue = [7, 328]'),\n",
       " Text(49.86382978723404, 84.56, 'gini = 0.0\\nsamples = 1\\nvalue = [1, 0]'),\n",
       " Text(78.35744680851063, 84.56, 'X[20] <= 15.902\\ngini = 0.035\\nsamples = 334\\nvalue = [6, 328]'),\n",
       " Text(28.493617021276595, 60.400000000000006, 'X[21] <= 33.445\\ngini = 0.007\\nsamples = 303\\nvalue = [1, 302]'),\n",
       " Text(14.246808510638298, 36.24000000000001, 'gini = 0.0\\nsamples = 283\\nvalue = [0, 283]'),\n",
       " Text(42.740425531914894, 36.24000000000001, 'X[21] <= 33.633\\ngini = 0.095\\nsamples = 20\\nvalue = [1, 19]'),\n",
       " Text(28.493617021276595, 12.079999999999984, 'gini = 0.0\\nsamples = 1\\nvalue = [1, 0]'),\n",
       " Text(56.98723404255319, 12.079999999999984, 'gini = 0.0\\nsamples = 19\\nvalue = [0, 19]'),\n",
       " Text(128.22127659574468, 60.400000000000006, 'X[3] <= 602.68\\ngini = 0.271\\nsamples = 31\\nvalue = [5, 26]'),\n",
       " Text(99.72765957446808, 36.24000000000001, 'X[25] <= 0.155\\ngini = 0.32\\nsamples = 5\\nvalue = [4, 1]'),\n",
       " Text(85.48085106382979, 12.079999999999984, 'gini = 0.0\\nsamples = 1\\nvalue = [0, 1]'),\n",
       " Text(113.97446808510638, 12.079999999999984, 'gini = 0.0\\nsamples = 4\\nvalue = [4, 0]'),\n",
       " Text(156.71489361702126, 36.24000000000001, 'X[7] <= -0.068\\ngini = 0.074\\nsamples = 26\\nvalue = [1, 25]'),\n",
       " Text(142.46808510638297, 12.079999999999984, 'gini = 0.0\\nsamples = 1\\nvalue = [1, 0]'),\n",
       " Text(170.96170212765958, 12.079999999999984, 'gini = 0.0\\nsamples = 25\\nvalue = [0, 25]'),\n",
       " Text(92.60425531914893, 108.72, 'gini = 0.0\\nsamples = 1\\nvalue = [1, 0]'),\n",
       " Text(170.96170212765958, 157.04, 'X[21] <= 25.772\\ngini = 0.493\\nsamples = 41\\nvalue = [23, 18]'),\n",
       " Text(135.34468085106383, 132.88, 'X[23] <= 737.591\\ngini = 0.231\\nsamples = 15\\nvalue = [2, 13]'),\n",
       " Text(121.09787234042552, 108.72, 'gini = 0.0\\nsamples = 13\\nvalue = [0, 13]'),\n",
       " Text(149.59148936170212, 108.72, 'gini = 0.0\\nsamples = 2\\nvalue = [2, 0]'),\n",
       " Text(206.57872340425533, 132.88, 'X[27] <= 0.112\\ngini = 0.311\\nsamples = 26\\nvalue = [21, 5]'),\n",
       " Text(178.08510638297872, 108.72, 'X[7] <= 0.075\\ngini = 0.32\\nsamples = 5\\nvalue = [1, 4]'),\n",
       " Text(163.83829787234043, 84.56, 'gini = 0.0\\nsamples = 4\\nvalue = [0, 4]'),\n",
       " Text(192.331914893617, 84.56, 'gini = 0.0\\nsamples = 1\\nvalue = [1, 0]'),\n",
       " Text(235.0723404255319, 108.72, 'X[28] <= 0.234\\ngini = 0.091\\nsamples = 21\\nvalue = [20, 1]'),\n",
       " Text(220.82553191489362, 84.56, 'gini = 0.0\\nsamples = 1\\nvalue = [0, 1]'),\n",
       " Text(249.3191489361702, 84.56, 'gini = 0.0\\nsamples = 20\\nvalue = [20, 0]'),\n",
       " Text(277.8127659574468, 181.2, 'X[6] <= 0.051\\ngini = 0.109\\nsamples = 190\\nvalue = [179, 11]'),\n",
       " Text(249.3191489361702, 157.04, 'X[1] <= 19.842\\ngini = 0.444\\nsamples = 12\\nvalue = [4, 8]'),\n",
       " Text(235.0723404255319, 132.88, 'gini = 0.0\\nsamples = 8\\nvalue = [0, 8]'),\n",
       " Text(263.5659574468085, 132.88, 'gini = 0.0\\nsamples = 4\\nvalue = [4, 0]'),\n",
       " Text(306.3063829787234, 157.04, 'X[11] <= 0.445\\ngini = 0.033\\nsamples = 178\\nvalue = [175, 3]'),\n",
       " Text(292.0595744680851, 132.88, 'X[7] <= 0.007\\ngini = 0.375\\nsamples = 4\\nvalue = [1, 3]'),\n",
       " Text(277.8127659574468, 108.72, 'gini = 0.0\\nsamples = 1\\nvalue = [1, 0]'),\n",
       " Text(306.3063829787234, 108.72, 'gini = 0.0\\nsamples = 3\\nvalue = [0, 3]'),\n",
       " Text(320.5531914893617, 132.88, 'gini = 0.0\\nsamples = 174\\nvalue = [174, 0]')]"
      ]
     },
     "execution_count": 11,
     "metadata": {},
     "output_type": "execute_result"
    },
    {
     "data": {
      "image/png": "[encoded data removed]",
      "text/plain": [
       "<Figure size 432x288 with 1 Axes>"
      ]
     },
     "metadata": {
      "needs_background": "light"
     },
     "output_type": "display_data"
    }
   ],
   "source": [
    "## Privatization: Laplace privatizer\n",
    "from privatizers import laplacePrivatizer\n",
    "\n",
    "scale = 0.03\n",
    "privatizer = laplacePrivatizer.LaplacePrivatizer(scale)\n",
    "privateData = privatizer.privatize(adapter.fromRaw(data_set['samples']))\n",
    "\n",
    "privateTargetsFloat = privatizer.privatize(adapter.fromRaw(data_set['labels']))\n",
    "privateTargets = adapter.toBinaryInt(privateTargetsFloat)\n",
    "# privateTargerts = data_set['labels']\n",
    "\n",
    "clf = tree.DecisionTreeClassifier()\n",
    "# clf = clf.fit(privateData, privateTargets)\n",
    "\n",
    "tree.plot_tree(clf.fit(privateData, privateTargets))"
   ]
  },
  {
   "cell_type": "code",
   "execution_count": null,
   "metadata": {},
   "outputs": [],
   "source": []
  },
  {
   "cell_type": "code",
   "execution_count": null,
   "metadata": {},
   "outputs": [],
   "source": []
  },
  {
   "cell_type": "code",
   "execution_count": null,
   "metadata": {},
   "outputs": [],
   "source": []
  }
 ],
 "metadata": {
  "kernelspec": {
   "display_name": "Python 3",
   "language": "python",
   "name": "python3"
  },
  "language_info": {
   "codemirror_mode": {
    "name": "ipython",
    "version": 3
   },
   "file_extension": ".py",
   "mimetype": "text/x-python",
   "name": "python",
   "nbconvert_exporter": "python",
   "pygments_lexer": "ipython3",
   "version": "3.7.1"
  }
 },
 "nbformat": 4,
 "nbformat_minor": 2
}
