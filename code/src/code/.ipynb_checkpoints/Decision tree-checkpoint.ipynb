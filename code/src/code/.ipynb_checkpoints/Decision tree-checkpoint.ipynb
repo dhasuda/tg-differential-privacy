{
 "cells": [
  {
   "cell_type": "code",
   "execution_count": 1,
   "metadata": {},
   "outputs": [],
   "source": [
    "# Let's start with a simple example of the scikit lib use\n",
    "\n",
    "import sys\n",
    "sys.path.append('./privatizers')\n",
    "sys.path.append('./dataProviders')\n",
    "sys.path.append('./adapters')\n",
    "\n",
    "from sklearn import tree\n",
    "from dataProviders import breastCancerDataProvider as dataProvider\n",
    "from adapters import breastCancerAdapter as adapter\n",
    "\n",
    "dp = dataProvider.BreastCancerDP()\n",
    "\n",
    "X = dp.getAllData()\n",
    "Y = dp.getAllTargets()\n"
   ]
  },
  {
   "cell_type": "code",
   "execution_count": 2,
   "metadata": {},
   "outputs": [],
   "source": [
    "## Dataset\n",
    "data_set = {\n",
    "    'samples': X,\n",
    "    'labels': Y\n",
    "}"
   ]
  },
  {
   "cell_type": "code",
   "execution_count": 3,
   "metadata": {},
   "outputs": [
    {
     "data": {
      "text/plain": [
       "[Text(302.25, 346.49999999999994, 'X[20] <= 16.795\\ngini = 0.468\\nsamples = 569\\nvalue = [212, 357]'),\n",
       " Text(186.0, 300.29999999999995, 'X[27] <= 0.136\\ngini = 0.159\\nsamples = 379\\nvalue = [33, 346]'),\n",
       " Text(85.25, 254.09999999999997, 'X[29] <= 0.055\\ngini = 0.03\\nsamples = 333\\nvalue = [5, 328]'),\n",
       " Text(69.75, 207.89999999999998, 'gini = 0.0\\nsamples = 1\\nvalue = [1, 0]'),\n",
       " Text(100.75, 207.89999999999998, 'X[13] <= 38.605\\ngini = 0.024\\nsamples = 332\\nvalue = [4, 328]'),\n",
       " Text(62.0, 161.7, 'X[14] <= 0.003\\ngini = 0.012\\nsamples = 319\\nvalue = [2, 317]'),\n",
       " Text(31.0, 115.5, 'X[1] <= 19.9\\ngini = 0.245\\nsamples = 7\\nvalue = [1, 6]'),\n",
       " Text(15.5, 69.30000000000001, 'gini = 0.0\\nsamples = 6\\nvalue = [0, 6]'),\n",
       " Text(46.5, 69.30000000000001, 'gini = 0.0\\nsamples = 1\\nvalue = [1, 0]'),\n",
       " Text(93.0, 115.5, 'X[21] <= 33.27\\ngini = 0.006\\nsamples = 312\\nvalue = [1, 311]'),\n",
       " Text(77.5, 69.30000000000001, 'gini = 0.0\\nsamples = 292\\nvalue = [0, 292]'),\n",
       " Text(108.5, 69.30000000000001, 'X[21] <= 33.56\\ngini = 0.095\\nsamples = 20\\nvalue = [1, 19]'),\n",
       " Text(93.0, 23.100000000000023, 'gini = 0.0\\nsamples = 1\\nvalue = [1, 0]'),\n",
       " Text(124.0, 23.100000000000023, 'gini = 0.0\\nsamples = 19\\nvalue = [0, 19]'),\n",
       " Text(139.5, 161.7, 'X[10] <= 0.421\\ngini = 0.26\\nsamples = 13\\nvalue = [2, 11]'),\n",
       " Text(124.0, 115.5, 'gini = 0.0\\nsamples = 1\\nvalue = [1, 0]'),\n",
       " Text(155.0, 115.5, 'X[15] <= 0.012\\ngini = 0.153\\nsamples = 12\\nvalue = [1, 11]'),\n",
       " Text(139.5, 69.30000000000001, 'gini = 0.0\\nsamples = 1\\nvalue = [1, 0]'),\n",
       " Text(170.5, 69.30000000000001, 'gini = 0.0\\nsamples = 11\\nvalue = [0, 11]'),\n",
       " Text(286.75, 254.09999999999997, 'X[21] <= 25.67\\ngini = 0.476\\nsamples = 46\\nvalue = [28, 18]'),\n",
       " Text(232.5, 207.89999999999998, 'X[23] <= 810.3\\ngini = 0.332\\nsamples = 19\\nvalue = [4, 15]'),\n",
       " Text(201.5, 161.7, 'X[4] <= 0.123\\ngini = 0.124\\nsamples = 15\\nvalue = [1, 14]'),\n",
       " Text(186.0, 115.5, 'gini = 0.0\\nsamples = 14\\nvalue = [0, 14]'),\n",
       " Text(217.0, 115.5, 'gini = 0.0\\nsamples = 1\\nvalue = [1, 0]'),\n",
       " Text(263.5, 161.7, 'X[20] <= 16.62\\ngini = 0.375\\nsamples = 4\\nvalue = [3, 1]'),\n",
       " Text(248.0, 115.5, 'gini = 0.0\\nsamples = 3\\nvalue = [3, 0]'),\n",
       " Text(279.0, 115.5, 'gini = 0.0\\nsamples = 1\\nvalue = [0, 1]'),\n",
       " Text(341.0, 207.89999999999998, 'X[6] <= 0.097\\ngini = 0.198\\nsamples = 27\\nvalue = [24, 3]'),\n",
       " Text(325.5, 161.7, 'X[21] <= 28.545\\ngini = 0.5\\nsamples = 6\\nvalue = [3, 3]'),\n",
       " Text(310.0, 115.5, 'gini = 0.0\\nsamples = 3\\nvalue = [0, 3]'),\n",
       " Text(341.0, 115.5, 'gini = 0.0\\nsamples = 3\\nvalue = [3, 0]'),\n",
       " Text(356.5, 161.7, 'gini = 0.0\\nsamples = 21\\nvalue = [21, 0]'),\n",
       " Text(418.5, 300.29999999999995, 'X[21] <= 19.91\\ngini = 0.109\\nsamples = 190\\nvalue = [179, 11]'),\n",
       " Text(387.5, 254.09999999999997, 'X[27] <= 0.145\\ngini = 0.498\\nsamples = 17\\nvalue = [8, 9]'),\n",
       " Text(372.0, 207.89999999999998, 'gini = 0.0\\nsamples = 9\\nvalue = [0, 9]'),\n",
       " Text(403.0, 207.89999999999998, 'gini = 0.0\\nsamples = 8\\nvalue = [8, 0]'),\n",
       " Text(449.5, 254.09999999999997, 'X[24] <= 0.088\\ngini = 0.023\\nsamples = 173\\nvalue = [171, 2]'),\n",
       " Text(434.0, 207.89999999999998, 'gini = 0.0\\nsamples = 1\\nvalue = [0, 1]'),\n",
       " Text(465.0, 207.89999999999998, 'X[26] <= 0.18\\ngini = 0.012\\nsamples = 172\\nvalue = [171, 1]'),\n",
       " Text(449.5, 161.7, 'X[15] <= 0.016\\ngini = 0.375\\nsamples = 4\\nvalue = [3, 1]'),\n",
       " Text(434.0, 115.5, 'gini = 0.0\\nsamples = 3\\nvalue = [3, 0]'),\n",
       " Text(465.0, 115.5, 'gini = 0.0\\nsamples = 1\\nvalue = [0, 1]'),\n",
       " Text(480.5, 161.7, 'gini = 0.0\\nsamples = 168\\nvalue = [168, 0]')]"
      ]
     },
     "execution_count": 3,
     "metadata": {},
     "output_type": "execute_result"
    }
   ],
   "source": [
    "## Decision tree without privatization\n",
    "clf = tree.DecisionTreeClassifier()\n",
    "# clf = clf.fit(data_set['samples'], data_set['labels'])\n",
    "\n",
    "tree.plot_tree(clf.fit(data_set['samples'], data_set['labels']))"
   ]
  },
  {
   "cell_type": "code",
   "execution_count": 4,
   "metadata": {},
   "outputs": [],
   "source": [
    "## Privatization: Coin privatizer\n",
    "\n",
    "# from privatizers import coinPrivatizer\n",
    "\n",
    "# private_format = []\n",
    "\n",
    "# for index, value in enumerate(data_set['samples']):\n",
    "#     single_list = []\n",
    "#     for num in value:\n",
    "#         single_list.append(False if num == 0 else True)\n",
    "#     single_list.append(False if data_set['labels'][index]==0 else True)\n",
    "#     private_format.append(single_list)\n",
    "\n",
    "# coin_privatizer = coinPrivatizer.CoinPrivatizer()\n",
    "# private_format = coin_privatizer.privatize(private_format)\n",
    "\n",
    "# private_data_set = {\n",
    "#     'samples': [],\n",
    "#     'labels': []\n",
    "# }\n",
    "\n",
    "# for value in private_format:\n",
    "#     private_data_set['labels'].append(1 if value.pop() else 0)\n",
    "#     single_list = []\n",
    "#     for v in value:\n",
    "#         single_list.append(1 if v else 0)\n",
    "#     private_data_set['samples'].append(single_list)\n",
    "\n",
    "# clf = tree.DecisionTreeClassifier()\n",
    "# clf = clf.fit(private_data_set['samples'], private_data_set['labels'])\n",
    "\n",
    "# tree.plot_tree(clf.fit(private_data_set['samples'], private_data_set['labels']))"
   ]
  },
  {
   "cell_type": "code",
   "execution_count": 5,
   "metadata": {},
   "outputs": [
    {
     "ename": "NameError",
     "evalue": "name 'privateTargerts' is not defined",
     "output_type": "error",
     "traceback": [
      "\u001b[0;31m---------------------------------------------------------------------------\u001b[0m",
      "\u001b[0;31mNameError\u001b[0m                                 Traceback (most recent call last)",
      "\u001b[0;32m<ipython-input-5-396c31d1e248>\u001b[0m in \u001b[0;36m<module>\u001b[0;34m\u001b[0m\n\u001b[1;32m     12\u001b[0m \u001b[0;31m# clf = clf.fit(privateData, privateTargets)\u001b[0m\u001b[0;34m\u001b[0m\u001b[0;34m\u001b[0m\u001b[0;34m\u001b[0m\u001b[0m\n\u001b[1;32m     13\u001b[0m \u001b[0;34m\u001b[0m\u001b[0m\n\u001b[0;32m---> 14\u001b[0;31m \u001b[0mtree\u001b[0m\u001b[0;34m.\u001b[0m\u001b[0mplot_tree\u001b[0m\u001b[0;34m(\u001b[0m\u001b[0mclf\u001b[0m\u001b[0;34m.\u001b[0m\u001b[0mfit\u001b[0m\u001b[0;34m(\u001b[0m\u001b[0mprivateData\u001b[0m\u001b[0;34m,\u001b[0m \u001b[0mprivateTargerts\u001b[0m\u001b[0;34m)\u001b[0m\u001b[0;34m)\u001b[0m\u001b[0;34m\u001b[0m\u001b[0;34m\u001b[0m\u001b[0m\n\u001b[0m",
      "\u001b[0;31mNameError\u001b[0m: name 'privateTargerts' is not defined"
     ]
    }
   ],
   "source": [
    "## Privatization: Laplace privatizer\n",
    "from privatizers import laplacePrivatizer\n",
    "\n",
    "privatizer = laplacePrivatizer.LaplacePrivatizer()\n",
    "privateData = privatizer.privatize(adapter.fromRaw(data_set['samples']))\n",
    "\n",
    "privateTargetsFloat = privatizer.privatize(adapter.fromRaw(data_set['labels']))\n",
    "privateTargets = adapter.toBinaryInt(privateTargetsFloat)\n",
    "# privateTargerts = data_set['labels']\n",
    "\n",
    "clf = tree.DecisionTreeClassifier()\n",
    "# clf = clf.fit(privateData, privateTargets)\n",
    "\n",
    "tree.plot_tree(clf.fit(privateData, privateTargets))"
   ]
  },
  {
   "cell_type": "code",
   "execution_count": null,
   "metadata": {},
   "outputs": [],
   "source": []
  },
  {
   "cell_type": "code",
   "execution_count": null,
   "metadata": {},
   "outputs": [],
   "source": []
  },
  {
   "cell_type": "code",
   "execution_count": null,
   "metadata": {},
   "outputs": [],
   "source": []
  }
 ],
 "metadata": {
  "kernelspec": {
   "display_name": "Python 3",
   "language": "python",
   "name": "python3"
  },
  "language_info": {
   "codemirror_mode": {
    "name": "ipython",
    "version": 3
   },
   "file_extension": ".py",
   "mimetype": "text/x-python",
   "name": "python",
   "nbconvert_exporter": "python",
   "pygments_lexer": "ipython3",
   "version": "3.7.1"
  }
 },
 "nbformat": 4,
 "nbformat_minor": 2
}
