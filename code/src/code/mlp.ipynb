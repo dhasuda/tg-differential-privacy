{
 "cells": [
  {
   "cell_type": "code",
   "execution_count": 27,
   "metadata": {},
   "outputs": [],
   "source": [
    "# Let's start with a simple example of the scikit lib use\n",
    "\n",
    "import sys\n",
    "sys.path.append('./privatizers')\n",
    "sys.path.append('./dataProviders')\n",
    "sys.path.append('./adapters')\n",
    "\n",
    "from sklearn.neural_network import MLPClassifier\n",
    "from dataProviders import breastCancerDataProvider as dataProvider\n",
    "from adapters import breastCancerAdapter as adapter\n",
    "from sklearn.metrics import accuracy_score\n",
    "from sklearn.model_selection import train_test_split\n",
    "\n",
    "dp = dataProvider.BreastCancerDP()\n",
    "\n",
    "X = dp.getAllData()\n",
    "Y = dp.getAllTargets()\n",
    "\n",
    "X_train, X_test, y_train, y_test = train_test_split( X, Y, test_size = 0.3, random_state = 100)\n"
   ]
  },
  {
   "cell_type": "code",
   "execution_count": 28,
   "metadata": {},
   "outputs": [],
   "source": [
    "## Dataset\n",
    "data_set = {\n",
    "    'samples': X,\n",
    "    'labels': Y\n",
    "}\n",
    "\n",
    "## Size adjustment\n",
    "MAX_SIZE = len(data_set['samples'])\n",
    "desired_size = 10000\n",
    "size = min(desired_size, MAX_SIZE)\n",
    "\n",
    "data_set['samples'] = data_set['samples'][:size]\n",
    "data_set['labels'] = data_set['labels'][:size]"
   ]
  },
  {
   "cell_type": "code",
   "execution_count": 29,
   "metadata": {},
   "outputs": [
    {
     "name": "stdout",
     "output_type": "stream",
     "text": [
      "Accuracy is 40.35087719298245\n"
     ]
    }
   ],
   "source": [
    "## SVM without privatization\n",
    "clf = MLPClassifier(solver='lbfgs', alpha=1e-5, hidden_layer_sizes=(5, 2), random_state=1)\n",
    "clf.fit(data_set['samples'], data_set['labels'])  \n",
    "\n",
    "y_pred = clf.predict(X_test)\n",
    "print(\"Accuracy is\", accuracy_score(y_test,y_pred)*100)"
   ]
  },
  {
   "cell_type": "code",
   "execution_count": 33,
   "metadata": {},
   "outputs": [
    {
     "name": "stdout",
     "output_type": "stream",
     "text": [
      "Accuracy is 59.64912280701754\n"
     ]
    }
   ],
   "source": [
    "## Privatization: Laplace privatizer\n",
    "from privatizers import laplacePrivatizer\n",
    "\n",
    "scale = 1000.0\n",
    "privatizer = laplacePrivatizer.LaplacePrivatizer(scale)\n",
    "privateData = privatizer.privatize(adapter.fromRaw(data_set['samples']))\n",
    "\n",
    "privateTargetsFloat = privatizer.privatize(adapter.fromRaw(data_set['labels']))\n",
    "privateTargets = adapter.toBinaryInt(privateTargetsFloat)\n",
    "\n",
    "clf = MLPClassifier(solver='lbfgs', alpha=1e-5, hidden_layer_sizes=(5, 2), random_state=1)\n",
    "clf.fit(privateData, privateTargets)\n",
    "\n",
    "y_pred = clf.predict(X_test)\n",
    "print(\"Accuracy is\", accuracy_score(y_test,y_pred)*100)"
   ]
  },
  {
   "cell_type": "code",
   "execution_count": 34,
   "metadata": {},
   "outputs": [
    {
     "name": "stdout",
     "output_type": "stream",
     "text": [
      "Accuracy is 59.64912280701754\n"
     ]
    }
   ],
   "source": [
    "## Privatization: Exponential privatizer\n",
    "from privatizers import exponentialPrivatizer\n",
    "\n",
    "scale = 1000.0\n",
    "privatizer = exponentialPrivatizer.ExponentialPrivatizer(scale)\n",
    "privateData = privatizer.privatize(adapter.fromRaw(data_set['samples']))\n",
    "\n",
    "privateTargetsFloat = privatizer.privatize(adapter.fromRaw(data_set['labels']))\n",
    "privateTargets = adapter.toBinaryInt(privateTargetsFloat)\n",
    "\n",
    "clf = MLPClassifier(solver='lbfgs', alpha=1e-5, hidden_layer_sizes=(5, 2), random_state=1)\n",
    "clf.fit(privateData, privateTargets)\n",
    "\n",
    "y_pred = clf.predict(X_test)\n",
    "print(\"Accuracy is\", accuracy_score(y_test,y_pred)*100)"
   ]
  },
  {
   "cell_type": "code",
   "execution_count": null,
   "metadata": {},
   "outputs": [],
   "source": []
  }
 ],
 "metadata": {
  "kernelspec": {
   "display_name": "Python 3",
   "language": "python",
   "name": "python3"
  },
  "language_info": {
   "codemirror_mode": {
    "name": "ipython",
    "version": 3
   },
   "file_extension": ".py",
   "mimetype": "text/x-python",
   "name": "python",
   "nbconvert_exporter": "python",
   "pygments_lexer": "ipython3",
   "version": "3.7.4"
  }
 },
 "nbformat": 4,
 "nbformat_minor": 2
}
